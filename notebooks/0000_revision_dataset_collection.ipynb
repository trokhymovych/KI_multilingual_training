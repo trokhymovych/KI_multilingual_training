{
 "cells": [
  {
   "cell_type": "markdown",
   "id": "15933bd9-0922-4503-b18a-091856e389ee",
   "metadata": {},
   "source": [
    "Data collection logic: \n",
    "- event_entity = 'revision'\n",
    "- snapshot dated 2022-07\n",
    "- the observation period is 2021-07-01 – 2022-08-01 (1 month)\n",
    "- consider only revisions with page_namespace = 0 (content)\n",
    "- filter bots\n",
    "- leave only revisions by anonymous users\n",
    "- add a binary feature that revert was done by \"experienced\" user\n",
    "- add filter for \"revision-wars\"\n",
    "\n"
   ]
  },
  {
   "cell_type": "code",
   "execution_count": null,
   "id": "1cd6e03a-3bf8-4876-9645-a3d82a2127c8",
   "metadata": {},
   "outputs": [],
   "source": [
    "import wmfdata\n",
    "spark = wmfdata.spark.get_session(\n",
    "    type='yarn-regular',\n",
    "    app_name ='mediawiki_history wikitext en',\n",
    "    ship_python_env=True,\n",
    "    extra_settings={\n",
    "        \"spark.executor.cores\": 2,\n",
    "    #     \"spark.sql.shuffle.partitions\": 195,\n",
    "        \"spark.sql.broadcastTimeout\": \"3600\",\n",
    "        \"spark.sql.autoBroadcastJoinThreshold\": 10485760 # 10Mb\n",
    "    }\n",
    ")"
   ]
  },
  {
   "cell_type": "code",
   "execution_count": 2,
   "id": "c1b76a61-534d-4ab9-af68-0cf255d90661",
   "metadata": {},
   "outputs": [],
   "source": [
    "import pyspark\n",
    "from pyspark.sql import functions as F\n",
    "from pyspark.sql import types as T\n",
    "from pyspark.sql.functions import udf\n",
    "from collections.abc import Iterable"
   ]
  },
  {
   "cell_type": "code",
   "execution_count": 3,
   "id": "42ba9632-0704-44cc-ba6a-3f9de6a4721f",
   "metadata": {},
   "outputs": [
    {
     "name": "stderr",
     "output_type": "stream",
     "text": [
      "22/09/24 12:48:11 WARN Utils: Truncated the string representation of a plan since it was too large. This behavior can be adjusted by setting 'spark.debug.maxToStringFields' in SparkEnv.conf.\n",
      "22/09/24 13:07:59 WARN SharedInMemoryCache: Evicting cached table partition metadata from memory due to size constraints (spark.sql.hive.filesourcePartitionFileCacheSize = 262144000 bytes). This may impact query planning performance.\n",
      "                                                                                \r"
     ]
    },
    {
     "data": {
      "text/plain": [
       "24664831"
      ]
     },
     "execution_count": 3,
     "metadata": {},
     "output_type": "execute_result"
    }
   ],
   "source": [
    "### Collecting data\n",
    "snapshot = \"'2022-07'\"\n",
    "wiki_dbs = ['enwiki']\n",
    "wiki_dbs_str = '(\"' + '\", \"'.join(wiki_dbs) + '\")'\n",
    "min_timestamp = \"'2022-01-01'\"\n",
    "max_timestamp = \"'2022-08-01'\"\n",
    "dump_name = \"mediawiki_history_en_07_2022.parquet\"\n",
    "\n",
    "features_to_observe = [\n",
    "    \"wiki_db\",\n",
    "    \"event_comment\",\n",
    "    \"event_user_text_historical\",\n",
    "    \"event_user_is_bot_by\",\n",
    "    \"event_user_is_anonymous\",\n",
    "    \"event_user_groups\",\n",
    "    \"event_user_seconds_since_previous_revision\",\n",
    "    \"revision_id\",\n",
    "    \"page_title\",\n",
    "    \"page_revision_count\",\n",
    "    \"revision_text_bytes_diff\",\n",
    "    \"revision_is_identity_reverted\",\n",
    "    \"event_timestamp\",\n",
    "    \"revision_tags\",\n",
    "    \"revision_parent_id\",\n",
    "    \"revision_first_identity_reverting_revision_id\"\n",
    "]\n",
    "\n",
    "changes = spark.sql(\n",
    "    f'''\n",
    "       SELECT {','.join(features_to_observe)}\n",
    "       FROM wmf.mediawiki_history \n",
    "       WHERE event_entity = 'revision' AND wiki_db IN {wiki_dbs_str} AND snapshot = {snapshot} \n",
    "       AND event_timestamp >= {min_timestamp} AND event_timestamp < {max_timestamp}\n",
    "       AND page_namespace = 0\n",
    "    '''\n",
    ")\n",
    "\n",
    "changes.write.parquet(dump_name, mode=\"overwrite\") \n",
    "\n",
    "\n",
    "# collected in 03_Initial_EDA.ipynb, reading dump\n",
    "changes=spark.read.parquet(dump_name)\n",
    "changes.count()"
   ]
  },
  {
   "cell_type": "code",
   "execution_count": 4,
   "id": "9281b287-5811-4e30-be9f-920bf003bf4f",
   "metadata": {},
   "outputs": [],
   "source": [
    "# change type of target column for stats calculation\n",
    "target_column = \"revision_is_identity_reverted\"\n",
    "changes = changes.withColumn(target_column, changes[target_column].cast(T.IntegerType()))"
   ]
  },
  {
   "cell_type": "code",
   "execution_count": 5,
   "id": "760be21f-7b3a-42b8-a5c8-f0cb5bac224b",
   "metadata": {},
   "outputs": [
    {
     "name": "stderr",
     "output_type": "stream",
     "text": [
      "                                                                                \r"
     ]
    },
    {
     "data": {
      "text/plain": [
       "24664831"
      ]
     },
     "execution_count": 5,
     "metadata": {},
     "output_type": "execute_result"
    }
   ],
   "source": [
    "columns_to_select = changes.columns\n",
    "changes_new = changes.alias(\"t1\") \\\n",
    "    .join(changes.alias(\"t2\"), F.col(\"t1.revision_first_identity_reverting_revision_id\") == F.col(\"t2.revision_id\"), \"left\") \\\n",
    "    .select(\n",
    "        *[f\"t1.{c}\" for c in changes.columns],\n",
    "        F.col(\"t2.revision_is_identity_reverted\").alias(\"reverting_revision_is_reverted_revision\"),\n",
    "        F.col(\"t2.event_user_groups\").alias(\"reverting_revision_event_user_groups\"),\n",
    "    )\n",
    "changes_new.count()"
   ]
  },
  {
   "cell_type": "code",
   "execution_count": 6,
   "id": "bf364c39-56cc-4789-a206-75292ae7d344",
   "metadata": {},
   "outputs": [
    {
     "name": "stderr",
     "output_type": "stream",
     "text": [
      "[Stage 11:>                                                         (0 + 1) / 1]"
     ]
    },
    {
     "name": "stdout",
     "output_type": "stream",
     "text": [
      "+---------------------------------------------------------+\n",
      "|avg(CAST(reverting_revision_is_reverted_revision AS INT))|\n",
      "+---------------------------------------------------------+\n",
      "|                                       0.1798579791724813|\n",
      "+---------------------------------------------------------+\n",
      "\n"
     ]
    },
    {
     "name": "stderr",
     "output_type": "stream",
     "text": [
      "                                                                                \r"
     ]
    }
   ],
   "source": [
    "# rate of \"bad\" reverts (reverts, that was later also reverted) -> we should filter out those\n",
    "changes_new.where(F.col(\"revision_is_identity_reverted\") == True) \\\n",
    "    .select(F.mean(F.col(\"reverting_revision_is_reverted_revision\").cast(T.IntegerType()))).show()"
   ]
  },
  {
   "cell_type": "markdown",
   "id": "5a96fd22-30e6-4de7-8dfb-25c25ce49cd9",
   "metadata": {},
   "source": [
    "# Adding filters:"
   ]
  },
  {
   "cell_type": "markdown",
   "id": "26734bf9-4e91-44a5-9fb9-85f6e1a6c8c6",
   "metadata": {},
   "source": [
    "### Filter out revision wars:"
   ]
  },
  {
   "cell_type": "code",
   "execution_count": 7,
   "id": "f10cdce7-36b6-4cd3-ac6b-aab7bc04fa4d",
   "metadata": {},
   "outputs": [
    {
     "name": "stderr",
     "output_type": "stream",
     "text": [
      "[Stage 14:=====================================================>(254 + 2) / 256]"
     ]
    },
    {
     "name": "stdout",
     "output_type": "stream",
     "text": [
      "24251117\n"
     ]
    },
    {
     "name": "stderr",
     "output_type": "stream",
     "text": [
      "                                                                                \r"
     ]
    }
   ],
   "source": [
    "# filter out only \"not_reverted\" revisions and reverted revisions that were reverted by \"good\" revert\n",
    "changes_new = changes_new.fillna({'reverting_revision_is_reverted_revision': False})\n",
    "changes_new = changes_new.where(changes_new[\"reverting_revision_is_reverted_revision\"] != True)\n",
    "print(changes_new.count())"
   ]
  },
  {
   "cell_type": "markdown",
   "id": "d6b285ed-b7de-4fe0-b52f-0f36bfdf2c80",
   "metadata": {},
   "source": [
    "### Filter out bots:"
   ]
  },
  {
   "cell_type": "code",
   "execution_count": null,
   "id": "9ea0c1dc-dcff-4eee-b341-380fd01fdcb5",
   "metadata": {},
   "outputs": [],
   "source": [
    "@udf(\"Integer\")\n",
    "def is_bot(user_groups):\n",
    "    if isinstance(user_groups, Iterable):\n",
    "        return 1 if len(user_groups) > 0 else 0\n",
    "    else:\n",
    "        return 0\n",
    "    \n",
    "changes_new = changes_new.withColumn(\"is_bot\", is_bot(F.col(\"event_user_is_bot_by\")))\n",
    "changes_new = changes_new.where(changes_new[\"is_bot\"]==0)\n",
    "print(changes_new.count())"
   ]
  },
  {
   "cell_type": "markdown",
   "id": "1b03816a-9237-4f7d-bbeb-c031821bb7e6",
   "metadata": {},
   "source": [
    "### Filter out new pages (where there is no revision_parent_id)\n",
    "Filter revisions without parent revision (as we are interested in text changes"
   ]
  },
  {
   "cell_type": "code",
   "execution_count": 9,
   "id": "a2ede1be-6a00-49e6-85c7-074fcb1644a9",
   "metadata": {},
   "outputs": [
    {
     "name": "stderr",
     "output_type": "stream",
     "text": [
      "[Stage 22:=====================================================>(255 + 1) / 256]"
     ]
    },
    {
     "name": "stdout",
     "output_type": "stream",
     "text": [
      "21764892\n"
     ]
    },
    {
     "name": "stderr",
     "output_type": "stream",
     "text": [
      "                                                                                \r"
     ]
    }
   ],
   "source": [
    "changes_new = changes_new.where(F.col(\"revision_parent_id\") != 0)\n",
    "print(changes_new.count())"
   ]
  },
  {
   "cell_type": "markdown",
   "id": "1530b380-e4d2-44fe-aa49-087ce41fde44",
   "metadata": {},
   "source": [
    "### Filter out anonymous users:"
   ]
  },
  {
   "cell_type": "code",
   "execution_count": 10,
   "id": "f85b9951-208e-4c94-b86d-e9f67caa00f3",
   "metadata": {},
   "outputs": [
    {
     "name": "stderr",
     "output_type": "stream",
     "text": [
      "[Stage 26:=================================================>    (235 + 4) / 256]"
     ]
    },
    {
     "name": "stdout",
     "output_type": "stream",
     "text": [
      "4322554\n"
     ]
    },
    {
     "name": "stderr",
     "output_type": "stream",
     "text": [
      "                                                                                \r"
     ]
    }
   ],
   "source": [
    "# filter only is_anonymous users\n",
    "changes_new = changes_new.where(changes_new[\"event_user_is_anonymous\"]==True)\n",
    "print(changes_new.count())"
   ]
  },
  {
   "cell_type": "markdown",
   "id": "0da5a0b0-b9c2-49af-be13-cfb14f67ca8e",
   "metadata": {},
   "source": [
    "### Artificial balancing (optional step)"
   ]
  },
  {
   "cell_type": "code",
   "execution_count": 11,
   "id": "e4c39bd8-868d-4f50-872e-bf4c01d69534",
   "metadata": {},
   "outputs": [
    {
     "name": "stderr",
     "output_type": "stream",
     "text": [
      "[Stage 39:=====================================================>(510 + 2) / 512]"
     ]
    },
    {
     "name": "stdout",
     "output_type": "stream",
     "text": [
      "+----------------------------------+\n",
      "|avg(revision_is_identity_reverted)|\n",
      "+----------------------------------+\n",
      "|                0.4994026224623952|\n",
      "+----------------------------------+\n",
      "\n"
     ]
    },
    {
     "name": "stderr",
     "output_type": "stream",
     "text": [
      "                                                                                \r"
     ]
    }
   ],
   "source": [
    "import numpy as np\n",
    "\n",
    "MAX_COUNT = 300000\n",
    "\n",
    "revert_revisions = changes_new.where(changes_new[target_column]==1)\n",
    "revert_revisions_count = revert_revisions.count()\n",
    "not_revert_revisions = changes_new.where(changes_new[target_column]==0)\n",
    "not_revert_revisions_count = not_revert_revisions.count()\n",
    "\n",
    "not_revert_revisions_count_new = np.min([not_revert_revisions_count, MAX_COUNT])\n",
    "not_revert_revisions = not_revert_revisions.sample(not_revert_revisions_count_new/not_revert_revisions_count)\n",
    "revert_revisions = revert_revisions.sample(np.min([1, not_revert_revisions_count_new/revert_revisions_count]))\n",
    "\n",
    "changes_new = revert_revisions.union(not_revert_revisions)\n",
    "changes_new.select(F.mean(F.col(target_column))).show()"
   ]
  },
  {
   "cell_type": "markdown",
   "id": "9113c50d-3c42-4e4b-a5a1-bdb132da5159",
   "metadata": {
    "tags": []
   },
   "source": [
    "# Feature engineering:"
   ]
  },
  {
   "cell_type": "markdown",
   "id": "45856a94-0581-46fc-b76b-83ab7a767e3d",
   "metadata": {},
   "source": [
    "### Mark if reverted revision is reverted by experienced user"
   ]
  },
  {
   "cell_type": "code",
   "execution_count": 12,
   "id": "f5feac71-f004-4d4a-9685-6f3c9904876d",
   "metadata": {},
   "outputs": [],
   "source": [
    "@udf(\"Integer\")\n",
    "def is_good_user(user_groups):\n",
    "    good_users = ['sysop','oversight','editor','rollbacker','checkuser','abusefilter','bureaucrat']\n",
    "    if isinstance(user_groups, Iterable):\n",
    "        return 1 if len([i for i in user_groups if i in good_users]) > 0 else 0\n",
    "    else:\n",
    "        return 0\n",
    "\n",
    "changes_new = \\\n",
    "    changes_new.withColumn(\"is_reverted_by_good_user\", is_good_user(F.col(\"reverting_revision_event_user_groups\")))"
   ]
  },
  {
   "cell_type": "markdown",
   "id": "acf5e2c0-73d5-4118-b899-ea441dcd29c1",
   "metadata": {},
   "source": [
    "### Mark specific tags"
   ]
  },
  {
   "cell_type": "code",
   "execution_count": 13,
   "id": "cf69f1d9-81f4-470f-b947-ccd871ed9a34",
   "metadata": {},
   "outputs": [],
   "source": [
    "# Add features for specific tags:\n",
    "revision_tags_to_get = [\n",
    "    \"mobile edit\",\n",
    "    \"mobile web edit\",\n",
    "    \"visualeditor\",\n",
    "    \"wikieditor\",\n",
    "    \"mobile app edit\"\n",
    "    \"android app edit\",\n",
    "    \"ios app edit\"\n",
    "]\n",
    "\n",
    "for tag in revision_tags_to_get:\n",
    "    @udf(\"Integer\")\n",
    "    def is_tag(tags_list, tag=tag):\n",
    "        if isinstance(tags_list, Iterable):\n",
    "            return 1 if tag in tags_list else 0\n",
    "        else:\n",
    "            return 0\n",
    "    \n",
    "    changes_new = changes_new.withColumn(f\"is_{tag.replace(' ', '_')}\", is_tag(F.col(\"revision_tags\")))"
   ]
  },
  {
   "cell_type": "code",
   "execution_count": 14,
   "id": "8d68634b-e08c-4b58-99b1-a860c80f9fb6",
   "metadata": {},
   "outputs": [
    {
     "name": "stderr",
     "output_type": "stream",
     "text": [
      "                                                                                \r"
     ]
    }
   ],
   "source": [
    "columns_to_save = [\n",
    " 'wiki_db',\n",
    " 'event_comment',\n",
    " 'event_user_text_historical',\n",
    " 'event_user_seconds_since_previous_revision',\n",
    " 'revision_id',\n",
    " 'page_title',\n",
    " 'page_revision_count',\n",
    " 'revision_text_bytes_diff',\n",
    " 'revision_is_identity_reverted',\n",
    " 'event_timestamp',\n",
    " 'revision_parent_id',\n",
    " 'revision_first_identity_reverting_revision_id',\n",
    " 'is_reverted_by_good_user',\n",
    " 'is_mobile_edit',\n",
    " 'is_mobile_web_edit',\n",
    " 'is_visualeditor',\n",
    " 'is_wikieditor',\n",
    " 'is_mobile_app_editandroid_app_edit',\n",
    " 'is_ios_app_edit'\n",
    "]\n",
    "\n",
    "dump_name = \"en_mediawiki_history_filtered_07_2022.parquet\"\n",
    "changes_new.select(columns_to_save).write.parquet(dump_name, mode=\"overwrite\") \n",
    "\n",
    "\n",
    "# collected prepared mediawiki_history\n",
    "changes_new=spark.read.parquet(dump_name)"
   ]
  },
  {
   "cell_type": "code",
   "execution_count": 15,
   "id": "a20be931-cf1b-47d5-8ee4-4a142ca11f3a",
   "metadata": {},
   "outputs": [],
   "source": [
    "dump_name = \"en_mediawiki_history_filtered_07_2022.parquet\"\n",
    "changes_new=spark.read.parquet(dump_name)"
   ]
  },
  {
   "cell_type": "code",
   "execution_count": 16,
   "id": "7d974501-c401-4496-a48a-7f87636ac355",
   "metadata": {},
   "outputs": [
    {
     "name": "stderr",
     "output_type": "stream",
     "text": [
      "                                                                                \r"
     ]
    },
    {
     "data": {
      "text/plain": [
       "600123"
      ]
     },
     "execution_count": 16,
     "metadata": {},
     "output_type": "execute_result"
    }
   ],
   "source": [
    "changes_new.count()"
   ]
  },
  {
   "cell_type": "markdown",
   "id": "b2933054-6d0e-4902-8012-1e691765563b",
   "metadata": {},
   "source": [
    "# Collecting text differences:"
   ]
  },
  {
   "cell_type": "markdown",
   "id": "d3dfe71e-6913-4e1f-98aa-b3de33404e12",
   "metadata": {},
   "source": [
    "### Collecting text data"
   ]
  },
  {
   "cell_type": "code",
   "execution_count": 17,
   "id": "c439fac6-30e7-4663-8216-08f34c0a96c6",
   "metadata": {},
   "outputs": [],
   "source": [
    "snapshot = \"2022-07\"\n",
    "wiki_dbs = ['enwiki']\n",
    "wiki_dbs_str = '(\"' + '\", \"'.join(wiki_dbs) + '\")'\n",
    "\n",
    "wikitext_df = spark.sql(f\"\"\"SELECT revision_id, wiki_db, revision_text \n",
    "    FROM wmf.mediawiki_wikitext_history\n",
    "    WHERE snapshot = '{snapshot}' and wiki_db in {wiki_dbs_str} and page_namespace = 0\n",
    "    \"\"\")"
   ]
  },
  {
   "cell_type": "markdown",
   "id": "a7ada0b4-dfae-4fcd-9e73-0590a901292c",
   "metadata": {},
   "source": [
    "### Joining the tables and collecting texts: "
   ]
  },
  {
   "cell_type": "code",
   "execution_count": 18,
   "id": "fa306fba-4b22-4a48-807d-5de0d42cd035",
   "metadata": {},
   "outputs": [],
   "source": [
    "history_columns = changes_new.columns\n",
    "\n",
    "revisions_text_1 = wikitext_df.alias(\"text\") \\\n",
    "    .join(\n",
    "        changes_new.alias(\"history\"),\n",
    "        F.col(\"text.revision_id\") == F.col(\"history.revision_id\"),\n",
    "        \"right\"\n",
    "    ).select(\n",
    "        *[F.col(f\"history.{c}\") for c in history_columns],\n",
    "        F.col(\"text.revision_text\").alias(\"revision_id_revision_text\"),\n",
    "    ).alias(\"t1\")\n",
    "\n",
    "revisions_text_2 = wikitext_df.alias(\"text\") \\\n",
    "    .join(\n",
    "        changes_new.alias(\"history\"),\n",
    "        F.col(\"text.revision_id\") == F.col(\"history.revision_parent_id\"),\n",
    "        \"right\"\n",
    "    ).select(\n",
    "        F.col(f\"history.revision_id\"),\n",
    "        F.col(\"text.revision_text\").alias(\"revision_parent_id_revision_text\")\n",
    "    ).alias(\"t2\")\n",
    "\n",
    "\n",
    "revisions_text_all = revisions_text_1 \\\n",
    "    .join(revisions_text_2, F.col(\"t1.revision_id\") == F.col(\"t2.revision_id\")) \\\n",
    "    .select(\n",
    "        F.col(\"t1.revision_id_revision_text\").alias(\"revision_id_revision_text\"),\n",
    "        F.col(\"t2.revision_parent_id_revision_text\").alias(\"revision_parent_id_revision_text\"),\n",
    "        *[F.col(f\"t1.{c}\") for c in history_columns],\n",
    "    )\n",
    "\n",
    "revisions_text_all = revisions_text_all.where(F.col(\"revision_parent_id_revision_text\").isNotNull())\n",
    "revisions_text_all = revisions_text_all.where(F.col(\"revision_id_revision_text\").isNotNull())"
   ]
  },
  {
   "cell_type": "code",
   "execution_count": 19,
   "id": "2366cf55-47e1-4695-ab12-20c6d2d94f11",
   "metadata": {},
   "outputs": [
    {
     "data": {
      "text/plain": [
       "DataFrame[revision_id_revision_text: string, revision_parent_id_revision_text: string, wiki_db: string, event_comment: string, event_user_text_historical: string, event_user_seconds_since_previous_revision: bigint, revision_id: bigint, page_title: string, page_revision_count: bigint, revision_text_bytes_diff: bigint, revision_is_identity_reverted: int, event_timestamp: string, revision_parent_id: bigint, revision_first_identity_reverting_revision_id: bigint, is_reverted_by_good_user: int, is_mobile_edit: int, is_mobile_web_edit: int, is_visualeditor: int, is_wikieditor: int, is_mobile_app_editandroid_app_edit: int, is_ios_app_edit: int]"
      ]
     },
     "execution_count": 19,
     "metadata": {},
     "output_type": "execute_result"
    }
   ],
   "source": [
    "revisions_text_all"
   ]
  },
  {
   "cell_type": "markdown",
   "id": "c70be0ee-18f6-47c1-9b48-094788e1c4c9",
   "metadata": {},
   "source": [
    "# Developing logic for taking text diffs"
   ]
  },
  {
   "cell_type": "code",
   "execution_count": 20,
   "id": "c95091c7-158b-429a-ab48-ab086755350b",
   "metadata": {},
   "outputs": [
    {
     "name": "stderr",
     "output_type": "stream",
     "text": [
      "/home/trokhymovych/.conda/envs/2022-08-18T15.21.49_trokhymovych/lib/python3.7/site-packages/fuzzywuzzy/fuzz.py:11: UserWarning: Using slow pure-python SequenceMatcher. Install python-Levenshtein to remove this warning\n",
      "  warnings.warn('Using slow pure-python SequenceMatcher. Install python-Levenshtein to remove this warning')\n"
     ]
    }
   ],
   "source": [
    "import pandas as pd\n",
    "import mwparserfromhell as mwp\n",
    "from mwedittypes.constants import CAT_ALIASES, CAT_PREFIXES\n",
    "from mwedittypes import EditTypes\n",
    "from mwedittypes.tree_differ import get_diff\n",
    "from mwedittypes.node_differ import get_diff_count\n",
    "from difflib import ndiff\n",
    "from fuzzywuzzy import fuzz\n",
    "import ast\n",
    "import re\n",
    "\n",
    "FUZZY_THRESHOLD = 60"
   ]
  },
  {
   "cell_type": "code",
   "execution_count": 21,
   "id": "d2e31f97-656c-4352-9cd9-56c6b41e44dc",
   "metadata": {},
   "outputs": [],
   "source": [
    "def sentence_tokenize(text):\n",
    "    return list(map(str.strip, re.split(r\"[.!?](?!$)\", text)))\n",
    "\n",
    "def parse_change_result(res: dict, similarity_threshold: int = FUZZY_THRESHOLD):\n",
    "    # collecting added/deleted sentences within text\n",
    "    added = []\n",
    "    deleted = []\n",
    "    for d in ndiff(res['prev']['text'].split('\\n'), res['curr']['text'].split('\\n')):\n",
    "        if d.startswith('- '):\n",
    "            text = d[2:]\n",
    "            if len(text) > 0: \n",
    "                # deleted.extend(tokenize.sent_tokenize(d[2:]))\n",
    "                deleted.extend(sentence_tokenize(d[2:]))\n",
    "        elif d.startswith('+ '):\n",
    "            text = d[2:]\n",
    "            if len(text) > 0: \n",
    "                # added.extend(tokenize.sent_tokenize(d[2:]))\n",
    "                added.extend(sentence_tokenize(d[2:]))\n",
    "    \n",
    "    # process added/deleted sentences\n",
    "    # ToDo: refactor this code, as it is not optimal \n",
    "    text_changes = []\n",
    "    used_deleted_texts = []\n",
    "    used_added_texts = []\n",
    "    \n",
    "    for added_text in added:\n",
    "        if added_text in used_added_texts:\n",
    "                continue\n",
    "        for deleted_text in deleted:\n",
    "            if deleted_text in used_deleted_texts:\n",
    "                continue\n",
    "            similarity = fuzz.ratio(added_text, deleted_text)\n",
    "            if similarity > similarity_threshold and added_text != deleted_text:\n",
    "                text_changes.append((deleted_text, added_text))\n",
    "                used_deleted_texts.append(deleted_text)\n",
    "                used_added_texts.append(added_text)\n",
    "                break\n",
    "            elif added_text == deleted_text:\n",
    "                used_deleted_texts.append(deleted_text)\n",
    "                used_added_texts.append(added_text)\n",
    "                break\n",
    "    \n",
    "    added = list(set(added) - set(used_added_texts))\n",
    "    deleted = list(set(deleted) - set(used_deleted_texts)) \n",
    "    \n",
    "    ### filter same inserts-deletes:\n",
    "    same = set(added) & set(deleted)\n",
    "    added = list(set(added) - same)\n",
    "    deleted = list(set(deleted) - same)\n",
    "\n",
    "    return added, deleted, text_changes\n",
    "\n",
    "def get_differences(tree_diff, keys_to_parse):\n",
    "    \n",
    "    texts_removed = {}\n",
    "    for res in tree_diff[\"remove\"]:\n",
    "        if res[\"type\"] in keys_to_parse:\n",
    "            texts_removed[res[\"type\"]] = texts_removed.get(res[\"type\"], []) + [res[\"text\"]]\n",
    "\n",
    "    texts_insert = {}\n",
    "    for res in tree_diff[\"insert\"]:\n",
    "        if res[\"type\"] in keys_to_parse:\n",
    "            texts_insert[res[\"type\"]] = texts_insert.get(res[\"type\"], []) + [res[\"text\"]]\n",
    "\n",
    "    texts_change = {}\n",
    "    for res in tree_diff[\"change\"]:\n",
    "        type_ = res['prev'][\"type\"]\n",
    "        if type_ in keys_to_parse:\n",
    "            added, deleted, changes = parse_change_result(res)\n",
    "            texts_change[type_] = texts_change.get(type_, []) + changes\n",
    "            texts_removed[type_] = texts_removed.get(type_, []) + deleted\n",
    "            texts_insert[type_] = texts_insert.get(type_, []) + added\n",
    "    \n",
    "    return texts_removed, texts_insert, texts_change\n",
    "\n",
    "def parse_categories(wikitext, lang):\n",
    "    categories = []\n",
    "    parsed_wikicode = mwp.parse(wikitext)\n",
    "    cat_prefixes = [c.lower() for c in CAT_PREFIXES + CAT_ALIASES.get(lang, [])]\n",
    "    \n",
    "    for wikilink in parsed_wikicode.filter_wikilinks():\n",
    "        \n",
    "        elements = re.sub(r\"[\\[,\\]]\", \"\", str(wikilink)).split(':', maxsplit=1)\n",
    "        \n",
    "        if len(elements) == 2:\n",
    "            prefix, category = elements\n",
    "        else:\n",
    "            continue\n",
    "        \n",
    "        if prefix.lower() in cat_prefixes:\n",
    "            categories.append(category)\n",
    "    return categories\n",
    "\n",
    "def get_changes(curr_wikitext, prev_wikitext, wikidb):\n",
    "    # ToDo: move to constanst\n",
    "    keys_to_parse = [\n",
    "        # \"Wikilink\",\n",
    "        # \"Heading\",\n",
    "        \"Reference\",\n",
    "        # \"Table\",\n",
    "        # \"Section\",\n",
    "        \"Text\",\n",
    "        # \"Template\",\n",
    "        # \"Media\",\n",
    "        # \"Category\",\n",
    "    ]\n",
    "    categories = parse_categories(curr_wikitext, wikidb[:2])\n",
    "    try:\n",
    "        et = EditTypes(prev_wikitext, curr_wikitext, lang=wikidb[:2], timeout=10)\n",
    "        tree_diff = get_diff(et.prev_wikitext, et.curr_wikitext, lang=et.lang,\n",
    "                                      timeout=et.timeout, debug=et.debug)\n",
    "        actions = get_diff_count(tree_diff, lang=et.lang)\n",
    "\n",
    "        texts_removed, texts_insert, texts_change = get_differences(tree_diff, keys_to_parse)\n",
    "\n",
    "        return [str(res) for res in [texts_removed, texts_insert, texts_change, actions]] + [str(categories)]\n",
    "    except:\n",
    "        return [str(dict()) for i in range(4)] + [str(categories)]"
   ]
  },
  {
   "cell_type": "code",
   "execution_count": 22,
   "id": "39c4f5cb-5007-482a-80cc-95df13cf98f4",
   "metadata": {},
   "outputs": [],
   "source": [
    "# Developing functions to take a diffs\n",
    "\n",
    "schema = T.StructType([\n",
    "    T.StructField(\"texts_removed\", T.StringType(), True), \n",
    "    T.StructField(\"texts_insert\", T.StringType(), True),\n",
    "    T.StructField(\"texts_change\", T.StringType(), True),\n",
    "    T.StructField(\"actions\", T.StringType(), True),\n",
    "    T.StructField(\"categories\", T.StringType(), True)\n",
    "])\n",
    "\n",
    "udf_get_changes = F.udf(get_changes, schema)\n",
    "\n",
    "# comment to work with sample only\n",
    "revisions_text_all_sample = revisions_text_all.repartition(1024, \"revision_id\")\n",
    "\n",
    "revisions_text_all_sample = revisions_text_all_sample \\\n",
    "    .withColumn(\"udf_res\", udf_get_changes(revisions_text_all_sample['revision_id_revision_text'], \n",
    "                                           revisions_text_all_sample['revision_parent_id_revision_text'], \n",
    "                                           revisions_text_all_sample['wiki_db'])) \\\n",
    "    .select(\n",
    "        *history_columns, \n",
    "        F.col(\"udf_res.texts_removed\"), \n",
    "        F.col(\"udf_res.texts_insert\"),  \n",
    "        F.col(\"udf_res.texts_change\"), \n",
    "        F.col(\"udf_res.actions\"),\n",
    "        F.col(\"udf_res.categories\")\n",
    "    )"
   ]
  },
  {
   "cell_type": "code",
   "execution_count": 23,
   "id": "1fe06b42-14f6-4e65-a034-883720f01320",
   "metadata": {},
   "outputs": [
    {
     "data": {
      "text/plain": [
       "DataFrame[wiki_db: string, event_comment: string, event_user_text_historical: string, event_user_seconds_since_previous_revision: bigint, revision_id: bigint, page_title: string, page_revision_count: bigint, revision_text_bytes_diff: bigint, revision_is_identity_reverted: int, event_timestamp: string, revision_parent_id: bigint, revision_first_identity_reverting_revision_id: bigint, is_reverted_by_good_user: int, is_mobile_edit: int, is_mobile_web_edit: int, is_visualeditor: int, is_wikieditor: int, is_mobile_app_editandroid_app_edit: int, is_ios_app_edit: int, texts_removed: string, texts_insert: string, texts_change: string, actions: string, categories: string]"
      ]
     },
     "execution_count": 23,
     "metadata": {},
     "output_type": "execute_result"
    }
   ],
   "source": [
    "revisions_text_all_sample"
   ]
  },
  {
   "cell_type": "markdown",
   "id": "176eb933-574d-4b3b-ae98-ec6617c831e3",
   "metadata": {},
   "source": [
    "### Dump to .parquet"
   ]
  },
  {
   "cell_type": "code",
   "execution_count": null,
   "id": "298af773-d89b-4e0c-9419-e8a67a9bb68a",
   "metadata": {},
   "outputs": [],
   "source": [
    "dump_name = \"en_anonymous_text_07-2022\"\n",
    "revisions_text_all_sample.write.parquet(dump_name + \".parquet\", mode=\"overwrite\") "
   ]
  },
  {
   "cell_type": "markdown",
   "id": "c5a676c2-2cd1-4cc9-9d44-780602296ff2",
   "metadata": {},
   "source": [
    "### Dump to .csv"
   ]
  },
  {
   "cell_type": "code",
   "execution_count": 25,
   "id": "15f95276-e4e5-4fd0-84b7-580bbf98ad98",
   "metadata": {},
   "outputs": [],
   "source": [
    "# Collecting dataset\n",
    "# saving intermediate results\n",
    "revisions_text_all_sample = spark.read.parquet(dump_name + \".parquet\")"
   ]
  },
  {
   "cell_type": "code",
   "execution_count": 26,
   "id": "8f8c1b28-3649-4589-86c7-e5853c453832",
   "metadata": {},
   "outputs": [
    {
     "name": "stderr",
     "output_type": "stream",
     "text": [
      "                                                                                \r"
     ]
    }
   ],
   "source": [
    "revisions_text_all_sample_df = revisions_text_all_sample.toPandas()\n",
    "revisions_text_all_sample_df.to_csv(f\"data/{dump_name}.csv\", index=False)"
   ]
  },
  {
   "cell_type": "code",
   "execution_count": 27,
   "id": "10135b9a-7aff-4e1d-b58b-cdc40a33697b",
   "metadata": {},
   "outputs": [
    {
     "data": {
      "text/html": [
       "<div>\n",
       "<style scoped>\n",
       "    .dataframe tbody tr th:only-of-type {\n",
       "        vertical-align: middle;\n",
       "    }\n",
       "\n",
       "    .dataframe tbody tr th {\n",
       "        vertical-align: top;\n",
       "    }\n",
       "\n",
       "    .dataframe thead th {\n",
       "        text-align: right;\n",
       "    }\n",
       "</style>\n",
       "<table border=\"1\" class=\"dataframe\">\n",
       "  <thead>\n",
       "    <tr style=\"text-align: right;\">\n",
       "      <th></th>\n",
       "      <th>wiki_db</th>\n",
       "      <th>event_comment</th>\n",
       "      <th>event_user_text_historical</th>\n",
       "      <th>event_user_seconds_since_previous_revision</th>\n",
       "      <th>revision_id</th>\n",
       "      <th>page_title</th>\n",
       "      <th>page_revision_count</th>\n",
       "      <th>revision_text_bytes_diff</th>\n",
       "      <th>revision_is_identity_reverted</th>\n",
       "      <th>event_timestamp</th>\n",
       "      <th>...</th>\n",
       "      <th>is_mobile_web_edit</th>\n",
       "      <th>is_visualeditor</th>\n",
       "      <th>is_wikieditor</th>\n",
       "      <th>is_mobile_app_editandroid_app_edit</th>\n",
       "      <th>is_ios_app_edit</th>\n",
       "      <th>texts_removed</th>\n",
       "      <th>texts_insert</th>\n",
       "      <th>texts_change</th>\n",
       "      <th>actions</th>\n",
       "      <th>categories</th>\n",
       "    </tr>\n",
       "  </thead>\n",
       "  <tbody>\n",
       "    <tr>\n",
       "      <th>0</th>\n",
       "      <td>enwiki</td>\n",
       "      <td></td>\n",
       "      <td>86.1.110.209</td>\n",
       "      <td>None</td>\n",
       "      <td>1063065888</td>\n",
       "      <td>Georgia_Taylor-Brown</td>\n",
       "      <td>80</td>\n",
       "      <td>5</td>\n",
       "      <td>0</td>\n",
       "      <td>2022-01-01 00:56:51.0</td>\n",
       "      <td>...</td>\n",
       "      <td>0</td>\n",
       "      <td>0</td>\n",
       "      <td>1</td>\n",
       "      <td>0</td>\n",
       "      <td>0</td>\n",
       "      <td>{'Text': []}</td>\n",
       "      <td>{'Text': []}</td>\n",
       "      <td>{'Text': [('Georgia Taylor-Brown (born 15 Marc...</td>\n",
       "      <td>{'Template': {'change': 1}, 'Whitespace': {'in...</td>\n",
       "      <td>['1994 births', 'Sportspeople from Manchester'...</td>\n",
       "    </tr>\n",
       "    <tr>\n",
       "      <th>1</th>\n",
       "      <td>enwiki</td>\n",
       "      <td>/* External links */</td>\n",
       "      <td>2A00:23C8:1780:9201:BCA4:7D62:B01D:4490</td>\n",
       "      <td>None</td>\n",
       "      <td>1063071140</td>\n",
       "      <td>Wiggly_Park</td>\n",
       "      <td>85</td>\n",
       "      <td>0</td>\n",
       "      <td>0</td>\n",
       "      <td>2022-01-01 01:42:21.0</td>\n",
       "      <td>...</td>\n",
       "      <td>0</td>\n",
       "      <td>0</td>\n",
       "      <td>1</td>\n",
       "      <td>0</td>\n",
       "      <td>0</td>\n",
       "      <td>{}</td>\n",
       "      <td>{}</td>\n",
       "      <td>{}</td>\n",
       "      <td>{'Category': {'change': 1}, 'Section': {'chang...</td>\n",
       "      <td>[\"BBC children's television shows\", 'Nick Jr. ...</td>\n",
       "    </tr>\n",
       "    <tr>\n",
       "      <th>2</th>\n",
       "      <td>enwiki</td>\n",
       "      <td></td>\n",
       "      <td>209.93.148.173</td>\n",
       "      <td>None</td>\n",
       "      <td>1063151921</td>\n",
       "      <td>1990_Prime_Minister's_Resignation_Honours</td>\n",
       "      <td>51</td>\n",
       "      <td>16</td>\n",
       "      <td>1</td>\n",
       "      <td>2022-01-01 15:10:55.0</td>\n",
       "      <td>...</td>\n",
       "      <td>0</td>\n",
       "      <td>0</td>\n",
       "      <td>1</td>\n",
       "      <td>0</td>\n",
       "      <td>0</td>\n",
       "      <td>{'Text': []}</td>\n",
       "      <td>{'Text': []}</td>\n",
       "      <td>{'Text': [(\"Andrew Turnbull, Principal Private...</td>\n",
       "      <td>{'Wikilink': {'insert': 3, 'change': 2}, 'Word...</td>\n",
       "      <td>['1990 awards in the United Kingdom', '1990 aw...</td>\n",
       "    </tr>\n",
       "    <tr>\n",
       "      <th>3</th>\n",
       "      <td>enwiki</td>\n",
       "      <td>/* Closures */Fresh Choice isn't fully gone th...</td>\n",
       "      <td>2600:1010:B062:37DB:C007:7F60:5B2D:ED0D</td>\n",
       "      <td>None</td>\n",
       "      <td>1063443456</td>\n",
       "      <td>Fresh_Choice</td>\n",
       "      <td>182</td>\n",
       "      <td>-1409</td>\n",
       "      <td>1</td>\n",
       "      <td>2022-01-03 03:16:48.0</td>\n",
       "      <td>...</td>\n",
       "      <td>1</td>\n",
       "      <td>0</td>\n",
       "      <td>0</td>\n",
       "      <td>0</td>\n",
       "      <td>0</td>\n",
       "      <td>{'Reference': ['&lt;ref&gt;{{cite web |url=http://ca...</td>\n",
       "      <td>{'Text': ['In late 2012, Fresh Choice closed a...</td>\n",
       "      <td>{'Text': []}</td>\n",
       "      <td>{'Wikilink': {'remove': 6}, 'Text Formatting':...</td>\n",
       "      <td>['Buffet restaurants', 'Defunct restaurant cha...</td>\n",
       "    </tr>\n",
       "    <tr>\n",
       "      <th>4</th>\n",
       "      <td>enwiki</td>\n",
       "      <td>Added content</td>\n",
       "      <td>2A02:C7F:6F05:1A00:5C6A:DEE4:20E8:3A34</td>\n",
       "      <td>None</td>\n",
       "      <td>1063697235</td>\n",
       "      <td>Peter_Sutcliffe</td>\n",
       "      <td>3687</td>\n",
       "      <td>108</td>\n",
       "      <td>1</td>\n",
       "      <td>2022-01-04 12:12:25.0</td>\n",
       "      <td>...</td>\n",
       "      <td>1</td>\n",
       "      <td>0</td>\n",
       "      <td>0</td>\n",
       "      <td>0</td>\n",
       "      <td>0</td>\n",
       "      <td>{'Text': []}</td>\n",
       "      <td>{'Text': ['Sutcliffe plays as a centre back fo...</td>\n",
       "      <td>{'Text': []}</td>\n",
       "      <td>{'Whitespace': {'insert': 18}, 'Punctuation': ...</td>\n",
       "      <td>['1946 births', '1980s trials', '2020 deaths',...</td>\n",
       "    </tr>\n",
       "    <tr>\n",
       "      <th>...</th>\n",
       "      <td>...</td>\n",
       "      <td>...</td>\n",
       "      <td>...</td>\n",
       "      <td>...</td>\n",
       "      <td>...</td>\n",
       "      <td>...</td>\n",
       "      <td>...</td>\n",
       "      <td>...</td>\n",
       "      <td>...</td>\n",
       "      <td>...</td>\n",
       "      <td>...</td>\n",
       "      <td>...</td>\n",
       "      <td>...</td>\n",
       "      <td>...</td>\n",
       "      <td>...</td>\n",
       "      <td>...</td>\n",
       "      <td>...</td>\n",
       "      <td>...</td>\n",
       "      <td>...</td>\n",
       "      <td>...</td>\n",
       "      <td>...</td>\n",
       "    </tr>\n",
       "    <tr>\n",
       "      <th>598762</th>\n",
       "      <td>enwiki</td>\n",
       "      <td>/* Lyrics */</td>\n",
       "      <td>49.150.32.41</td>\n",
       "      <td>None</td>\n",
       "      <td>1101067030</td>\n",
       "      <td>The_More_We_Get_Together</td>\n",
       "      <td>121</td>\n",
       "      <td>1</td>\n",
       "      <td>1</td>\n",
       "      <td>2022-07-29 04:20:11.0</td>\n",
       "      <td>...</td>\n",
       "      <td>1</td>\n",
       "      <td>0</td>\n",
       "      <td>0</td>\n",
       "      <td>0</td>\n",
       "      <td>0</td>\n",
       "      <td>{'Text': []}</td>\n",
       "      <td>{'Text': []}</td>\n",
       "      <td>{'Text': []}</td>\n",
       "      <td>{'Whitespace': {'insert': 1}, 'Section': {'cha...</td>\n",
       "      <td>[\"Traditional children's songs\", 'American fol...</td>\n",
       "    </tr>\n",
       "    <tr>\n",
       "      <th>598763</th>\n",
       "      <td>enwiki</td>\n",
       "      <td>/* Models of fitness */</td>\n",
       "      <td>141.136.230.143</td>\n",
       "      <td>None</td>\n",
       "      <td>1101105227</td>\n",
       "      <td>Fitness_(biology)</td>\n",
       "      <td>514</td>\n",
       "      <td>-10</td>\n",
       "      <td>0</td>\n",
       "      <td>2022-07-29 09:54:55.0</td>\n",
       "      <td>...</td>\n",
       "      <td>1</td>\n",
       "      <td>0</td>\n",
       "      <td>0</td>\n",
       "      <td>0</td>\n",
       "      <td>0</td>\n",
       "      <td>{}</td>\n",
       "      <td>{}</td>\n",
       "      <td>{}</td>\n",
       "      <td>{'Heading': {'change': 1}, 'Section': {'change...</td>\n",
       "      <td>['Evolutionary biology concepts', 'Genetics co...</td>\n",
       "    </tr>\n",
       "    <tr>\n",
       "      <th>598764</th>\n",
       "      <td>enwiki</td>\n",
       "      <td>/* List */</td>\n",
       "      <td>39.32.228.237</td>\n",
       "      <td>None</td>\n",
       "      <td>1101106513</td>\n",
       "      <td>List_of_countries_by_foreign-exchange_reserves...</td>\n",
       "      <td>768</td>\n",
       "      <td>1</td>\n",
       "      <td>1</td>\n",
       "      <td>2022-07-29 10:07:21.0</td>\n",
       "      <td>...</td>\n",
       "      <td>0</td>\n",
       "      <td>0</td>\n",
       "      <td>0</td>\n",
       "      <td>0</td>\n",
       "      <td>0</td>\n",
       "      <td>{'Text': []}</td>\n",
       "      <td>{'Text': []}</td>\n",
       "      <td>{'Text': [('1   2,281,208  Sep 2020中國4月外匯佔款連三月...</td>\n",
       "      <td>{'Table': {'change': 1}, 'Word': {'change': 1}...</td>\n",
       "      <td>['Lists of countries by economic indicator|for...</td>\n",
       "    </tr>\n",
       "    <tr>\n",
       "      <th>598765</th>\n",
       "      <td>enwiki</td>\n",
       "      <td></td>\n",
       "      <td>94.226.56.157</td>\n",
       "      <td>None</td>\n",
       "      <td>1101169003</td>\n",
       "      <td>Laurit_Krasniqi</td>\n",
       "      <td>13</td>\n",
       "      <td>-1</td>\n",
       "      <td>1</td>\n",
       "      <td>2022-07-29 17:13:20.0</td>\n",
       "      <td>...</td>\n",
       "      <td>1</td>\n",
       "      <td>0</td>\n",
       "      <td>0</td>\n",
       "      <td>0</td>\n",
       "      <td>0</td>\n",
       "      <td>{'Text': []}</td>\n",
       "      <td>{'Text': []}</td>\n",
       "      <td>{'Text': [('Born in Belgium, he has chosen to ...</td>\n",
       "      <td>{'Wikilink': {'change': 1}, 'Word': {'change':...</td>\n",
       "      <td>['2001 births', 'Living people', 'Association ...</td>\n",
       "    </tr>\n",
       "    <tr>\n",
       "      <th>598766</th>\n",
       "      <td>enwiki</td>\n",
       "      <td>/* Elected officials */</td>\n",
       "      <td>49.151.216.99</td>\n",
       "      <td>None</td>\n",
       "      <td>1101465704</td>\n",
       "      <td>Urdaneta,_Pangasinan</td>\n",
       "      <td>554</td>\n",
       "      <td>14</td>\n",
       "      <td>0</td>\n",
       "      <td>2022-07-31 05:33:39.0</td>\n",
       "      <td>...</td>\n",
       "      <td>0</td>\n",
       "      <td>0</td>\n",
       "      <td>1</td>\n",
       "      <td>0</td>\n",
       "      <td>0</td>\n",
       "      <td>{'Text': ['Florencio B', 'Perez', 'Basco', 'Je...</td>\n",
       "      <td>{'Text': ['Veridiano', 'Jhan Hero M', 'Onofre ...</td>\n",
       "      <td>{'Text': [('+ Members of the Urdaneta City Cou...</td>\n",
       "      <td>{'Table': {'change': 1}, 'Whitespace': {'inser...</td>\n",
       "      <td>['Urdaneta Pangasinan| ', 'Cities in Pangasina...</td>\n",
       "    </tr>\n",
       "  </tbody>\n",
       "</table>\n",
       "<p>598767 rows × 24 columns</p>\n",
       "</div>"
      ],
      "text/plain": [
       "       wiki_db                                      event_comment  \\\n",
       "0       enwiki                                                      \n",
       "1       enwiki                               /* External links */   \n",
       "2       enwiki                                                      \n",
       "3       enwiki  /* Closures */Fresh Choice isn't fully gone th...   \n",
       "4       enwiki                                      Added content   \n",
       "...        ...                                                ...   \n",
       "598762  enwiki                                       /* Lyrics */   \n",
       "598763  enwiki                            /* Models of fitness */   \n",
       "598764  enwiki                                         /* List */   \n",
       "598765  enwiki                                                      \n",
       "598766  enwiki                            /* Elected officials */   \n",
       "\n",
       "                     event_user_text_historical  \\\n",
       "0                                  86.1.110.209   \n",
       "1       2A00:23C8:1780:9201:BCA4:7D62:B01D:4490   \n",
       "2                                209.93.148.173   \n",
       "3       2600:1010:B062:37DB:C007:7F60:5B2D:ED0D   \n",
       "4        2A02:C7F:6F05:1A00:5C6A:DEE4:20E8:3A34   \n",
       "...                                         ...   \n",
       "598762                             49.150.32.41   \n",
       "598763                          141.136.230.143   \n",
       "598764                            39.32.228.237   \n",
       "598765                            94.226.56.157   \n",
       "598766                            49.151.216.99   \n",
       "\n",
       "       event_user_seconds_since_previous_revision  revision_id  \\\n",
       "0                                            None   1063065888   \n",
       "1                                            None   1063071140   \n",
       "2                                            None   1063151921   \n",
       "3                                            None   1063443456   \n",
       "4                                            None   1063697235   \n",
       "...                                           ...          ...   \n",
       "598762                                       None   1101067030   \n",
       "598763                                       None   1101105227   \n",
       "598764                                       None   1101106513   \n",
       "598765                                       None   1101169003   \n",
       "598766                                       None   1101465704   \n",
       "\n",
       "                                               page_title  \\\n",
       "0                                    Georgia_Taylor-Brown   \n",
       "1                                             Wiggly_Park   \n",
       "2               1990_Prime_Minister's_Resignation_Honours   \n",
       "3                                            Fresh_Choice   \n",
       "4                                         Peter_Sutcliffe   \n",
       "...                                                   ...   \n",
       "598762                           The_More_We_Get_Together   \n",
       "598763                                  Fitness_(biology)   \n",
       "598764  List_of_countries_by_foreign-exchange_reserves...   \n",
       "598765                                    Laurit_Krasniqi   \n",
       "598766                               Urdaneta,_Pangasinan   \n",
       "\n",
       "        page_revision_count  revision_text_bytes_diff  \\\n",
       "0                        80                         5   \n",
       "1                        85                         0   \n",
       "2                        51                        16   \n",
       "3                       182                     -1409   \n",
       "4                      3687                       108   \n",
       "...                     ...                       ...   \n",
       "598762                  121                         1   \n",
       "598763                  514                       -10   \n",
       "598764                  768                         1   \n",
       "598765                   13                        -1   \n",
       "598766                  554                        14   \n",
       "\n",
       "        revision_is_identity_reverted        event_timestamp  ...  \\\n",
       "0                                   0  2022-01-01 00:56:51.0  ...   \n",
       "1                                   0  2022-01-01 01:42:21.0  ...   \n",
       "2                                   1  2022-01-01 15:10:55.0  ...   \n",
       "3                                   1  2022-01-03 03:16:48.0  ...   \n",
       "4                                   1  2022-01-04 12:12:25.0  ...   \n",
       "...                               ...                    ...  ...   \n",
       "598762                              1  2022-07-29 04:20:11.0  ...   \n",
       "598763                              0  2022-07-29 09:54:55.0  ...   \n",
       "598764                              1  2022-07-29 10:07:21.0  ...   \n",
       "598765                              1  2022-07-29 17:13:20.0  ...   \n",
       "598766                              0  2022-07-31 05:33:39.0  ...   \n",
       "\n",
       "        is_mobile_web_edit  is_visualeditor  is_wikieditor  \\\n",
       "0                        0                0              1   \n",
       "1                        0                0              1   \n",
       "2                        0                0              1   \n",
       "3                        1                0              0   \n",
       "4                        1                0              0   \n",
       "...                    ...              ...            ...   \n",
       "598762                   1                0              0   \n",
       "598763                   1                0              0   \n",
       "598764                   0                0              0   \n",
       "598765                   1                0              0   \n",
       "598766                   0                0              1   \n",
       "\n",
       "        is_mobile_app_editandroid_app_edit  is_ios_app_edit  \\\n",
       "0                                        0                0   \n",
       "1                                        0                0   \n",
       "2                                        0                0   \n",
       "3                                        0                0   \n",
       "4                                        0                0   \n",
       "...                                    ...              ...   \n",
       "598762                                   0                0   \n",
       "598763                                   0                0   \n",
       "598764                                   0                0   \n",
       "598765                                   0                0   \n",
       "598766                                   0                0   \n",
       "\n",
       "                                            texts_removed  \\\n",
       "0                                            {'Text': []}   \n",
       "1                                                      {}   \n",
       "2                                            {'Text': []}   \n",
       "3       {'Reference': ['<ref>{{cite web |url=http://ca...   \n",
       "4                                            {'Text': []}   \n",
       "...                                                   ...   \n",
       "598762                                       {'Text': []}   \n",
       "598763                                                 {}   \n",
       "598764                                       {'Text': []}   \n",
       "598765                                       {'Text': []}   \n",
       "598766  {'Text': ['Florencio B', 'Perez', 'Basco', 'Je...   \n",
       "\n",
       "                                             texts_insert  \\\n",
       "0                                            {'Text': []}   \n",
       "1                                                      {}   \n",
       "2                                            {'Text': []}   \n",
       "3       {'Text': ['In late 2012, Fresh Choice closed a...   \n",
       "4       {'Text': ['Sutcliffe plays as a centre back fo...   \n",
       "...                                                   ...   \n",
       "598762                                       {'Text': []}   \n",
       "598763                                                 {}   \n",
       "598764                                       {'Text': []}   \n",
       "598765                                       {'Text': []}   \n",
       "598766  {'Text': ['Veridiano', 'Jhan Hero M', 'Onofre ...   \n",
       "\n",
       "                                             texts_change  \\\n",
       "0       {'Text': [('Georgia Taylor-Brown (born 15 Marc...   \n",
       "1                                                      {}   \n",
       "2       {'Text': [(\"Andrew Turnbull, Principal Private...   \n",
       "3                                            {'Text': []}   \n",
       "4                                            {'Text': []}   \n",
       "...                                                   ...   \n",
       "598762                                       {'Text': []}   \n",
       "598763                                                 {}   \n",
       "598764  {'Text': [('1   2,281,208  Sep 2020中國4月外匯佔款連三月...   \n",
       "598765  {'Text': [('Born in Belgium, he has chosen to ...   \n",
       "598766  {'Text': [('+ Members of the Urdaneta City Cou...   \n",
       "\n",
       "                                                  actions  \\\n",
       "0       {'Template': {'change': 1}, 'Whitespace': {'in...   \n",
       "1       {'Category': {'change': 1}, 'Section': {'chang...   \n",
       "2       {'Wikilink': {'insert': 3, 'change': 2}, 'Word...   \n",
       "3       {'Wikilink': {'remove': 6}, 'Text Formatting':...   \n",
       "4       {'Whitespace': {'insert': 18}, 'Punctuation': ...   \n",
       "...                                                   ...   \n",
       "598762  {'Whitespace': {'insert': 1}, 'Section': {'cha...   \n",
       "598763  {'Heading': {'change': 1}, 'Section': {'change...   \n",
       "598764  {'Table': {'change': 1}, 'Word': {'change': 1}...   \n",
       "598765  {'Wikilink': {'change': 1}, 'Word': {'change':...   \n",
       "598766  {'Table': {'change': 1}, 'Whitespace': {'inser...   \n",
       "\n",
       "                                               categories  \n",
       "0       ['1994 births', 'Sportspeople from Manchester'...  \n",
       "1       [\"BBC children's television shows\", 'Nick Jr. ...  \n",
       "2       ['1990 awards in the United Kingdom', '1990 aw...  \n",
       "3       ['Buffet restaurants', 'Defunct restaurant cha...  \n",
       "4       ['1946 births', '1980s trials', '2020 deaths',...  \n",
       "...                                                   ...  \n",
       "598762  [\"Traditional children's songs\", 'American fol...  \n",
       "598763  ['Evolutionary biology concepts', 'Genetics co...  \n",
       "598764  ['Lists of countries by economic indicator|for...  \n",
       "598765  ['2001 births', 'Living people', 'Association ...  \n",
       "598766  ['Urdaneta Pangasinan| ', 'Cities in Pangasina...  \n",
       "\n",
       "[598767 rows x 24 columns]"
      ]
     },
     "execution_count": 27,
     "metadata": {},
     "output_type": "execute_result"
    }
   ],
   "source": [
    "revisions_text_all_sample_df"
   ]
  }
 ],
 "metadata": {
  "kernelspec": {
   "display_name": "Python 3 (ipykernel)",
   "language": "python",
   "name": "python3"
  },
  "language_info": {
   "codemirror_mode": {
    "name": "ipython",
    "version": 3
   },
   "file_extension": ".py",
   "mimetype": "text/x-python",
   "name": "python",
   "nbconvert_exporter": "python",
   "pygments_lexer": "ipython3",
   "version": "3.7.6"
  }
 },
 "nbformat": 4,
 "nbformat_minor": 5
}
