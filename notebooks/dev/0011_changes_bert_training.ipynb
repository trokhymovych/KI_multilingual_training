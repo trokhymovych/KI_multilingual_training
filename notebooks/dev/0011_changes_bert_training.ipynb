{
 "cells": [
  {
   "cell_type": "code",
   "execution_count": 1,
   "id": "00943a52-823a-40ca-9ab6-c2abd5492828",
   "metadata": {},
   "outputs": [
    {
     "name": "stderr",
     "output_type": "stream",
     "text": [
      "/home/trokhymovych/.conda/envs/2022-08-18T15.21.49_trokhymovych/lib/python3.7/site-packages/IPython/core/interactiveshell.py:3186: DtypeWarning: Columns (24) have mixed types.Specify dtype option on import or set low_memory=False.\n",
      "  interactivity=interactivity, compiler=compiler, result=result)\n"
     ]
    }
   ],
   "source": [
    "import pandas as pd\n",
    "import numpy as np\n",
    "from tqdm import tqdm\n",
    "import ast\n",
    "\n",
    "cc_codes = [\"uk\", \"de\", \"pl\", \"es\", \"ru\", \"en\"]\n",
    "filename_pattern_train = \"data/multilingual_train/train_{}.csv\".format(\"_\".join(cc_codes))\n",
    "filename_pattern_test = \"data/multilingual_train/test_{}.csv\".format(\"_\".join(cc_codes))\n",
    "\n",
    "train_df = pd.read_csv(filename_pattern_train)\n",
    "test_df = pd.read_csv(filename_pattern_test)\n",
    "\n",
    "# filterring only texts train part. \n",
    "train_df = train_df[train_df[\"is_text_train\"] == 1]"
   ]
  },
  {
   "cell_type": "markdown",
   "id": "c18ba436-9244-4f66-bf5e-6c842a2f0231",
   "metadata": {},
   "source": [
    "## Building dataset for changes model: \n",
    "- Take only those revisions that have one change (avoid noise from multiple changes)\n",
    "- take only texts that correspond to the text split\n",
    "- balance dataset\n",
    "\n",
    "As an input takes the pair of texts"
   ]
  },
  {
   "cell_type": "code",
   "execution_count": 34,
   "id": "3510eb99-5884-435d-b044-3b20d539ed5f",
   "metadata": {},
   "outputs": [
    {
     "name": "stderr",
     "output_type": "stream",
     "text": [
      "911068it [00:18, 49147.80it/s]\n"
     ]
    }
   ],
   "source": [
    "text_changes = []\n",
    "target = []\n",
    "revisions = []\n",
    "lang = []\n",
    "\n",
    "target_column = \"revision_is_identity_reverted\"\n",
    "\n",
    "for rev, text, lable, lang_ in tqdm(zip(train_df.revision_id, train_df.texts_change, train_df[target_column], train_df[\"wiki_db\"])):\n",
    "    texts_to_add = ast.literal_eval(text).get(\"Text\", [])\n",
    "    if len(texts_to_add) != 1:\n",
    "        continue\n",
    "    for texts in texts_to_add:\n",
    "        if texts[0] != texts[1]:\n",
    "            text_changes += [texts]\n",
    "            target += [lable]\n",
    "            revisions += [rev]\n",
    "            lang += [lang_]\n",
    "\n",
    "train_2 = pd.DataFrame(text_changes, columns = [\"sentence1\", \"sentence2\"])\n",
    "train_2.dropna(inplace=True)\n",
    "train_2.sentence1 = train_2.sentence1.astype(str)\n",
    "train_2.sentence2 = train_2.sentence2.astype(str)\n",
    "\n",
    "train_2[\"label\"] = target\n",
    "train_2[\"revision_id\"] = revisions\n",
    "train_2[\"lang\"] = lang\n",
    "\n",
    "train_2 = train_2[~train_2.sentence1.isin(['N/A', 'NA', \"n/a\", \"na\", \"None\", \"nan\", \"N/a\"])]\n",
    "train_2 = train_2[~train_2.sentence2.isin(['N/A', 'NA', \"n/a\", \"na\", \"None\", \"nan\", \"N/a\"])]"
   ]
  },
  {
   "cell_type": "code",
   "execution_count": 35,
   "id": "f480f8a3-4770-49be-a67a-3ba33957c7da",
   "metadata": {},
   "outputs": [
    {
     "data": {
      "text/plain": [
       "0.4540843480127378"
      ]
     },
     "execution_count": 35,
     "metadata": {},
     "output_type": "execute_result"
    }
   ],
   "source": [
    "train_2.label.mean()"
   ]
  },
  {
   "cell_type": "code",
   "execution_count": 36,
   "id": "8204507b-006f-4e79-bd37-eaecec12e66c",
   "metadata": {},
   "outputs": [],
   "source": [
    "# building balanced dataset\n",
    "part_1 = train_2[train_2.label == 1]\n",
    "part_2 = train_2[train_2.label == 0].sample(len(part_1), random_state=42)\n",
    "balanced = pd.concat([part_1, part_2]).sample(len(part_1)+len(part_2), random_state=42)\n",
    "balanced.to_csv(\"data/multilingual_train/text_changes_train_balanced.csv\", index=False)"
   ]
  },
  {
   "cell_type": "code",
   "execution_count": 37,
   "id": "f5269506-703d-4b4a-a984-550b6839c6a3",
   "metadata": {},
   "outputs": [
    {
     "data": {
      "text/plain": [
       "0.5"
      ]
     },
     "execution_count": 37,
     "metadata": {},
     "output_type": "execute_result"
    }
   ],
   "source": [
    "balanced.label.mean()"
   ]
  },
  {
   "cell_type": "code",
   "execution_count": 38,
   "id": "ae4809bd-7093-410c-9594-6710fa0bf3ad",
   "metadata": {},
   "outputs": [
    {
     "data": {
      "text/plain": [
       "308860"
      ]
     },
     "execution_count": 38,
     "metadata": {},
     "output_type": "execute_result"
    }
   ],
   "source": [
    "len(balanced.label)"
   ]
  },
  {
   "cell_type": "code",
   "execution_count": 39,
   "id": "47e3cf42-55a2-46d8-824c-0b0e49a648e6",
   "metadata": {},
   "outputs": [
    {
     "data": {
      "text/plain": [
       "enwiki    100601\n",
       "dewiki     67675\n",
       "ruwiki     52061\n",
       "eswiki     50991\n",
       "plwiki     24223\n",
       "ukwiki     13309\n",
       "Name: lang, dtype: int64"
      ]
     },
     "execution_count": 39,
     "metadata": {},
     "output_type": "execute_result"
    }
   ],
   "source": [
    "balanced.lang.value_counts()"
   ]
  },
  {
   "cell_type": "markdown",
   "id": "c5d3925d-c65a-46a3-a8fa-2a00aa63cc15",
   "metadata": {},
   "source": [
    "## Modeling attemp: "
   ]
  },
  {
   "cell_type": "code",
   "execution_count": 40,
   "id": "23750cad-d35a-4c77-89e1-68db87f04f49",
   "metadata": {},
   "outputs": [],
   "source": [
    "from datasets import load_dataset, load_metric, Dataset, ClassLabel\n",
    "from transformers import AutoTokenizer\n",
    "from transformers import AutoModelForSequenceClassification, TrainingArguments, Trainer"
   ]
  },
  {
   "cell_type": "code",
   "execution_count": 41,
   "id": "7b3b2fc9-e58c-4aa1-896f-dc55cf3f0369",
   "metadata": {},
   "outputs": [
    {
     "name": "stderr",
     "output_type": "stream",
     "text": [
      "Using custom data configuration default-0495e7d43830749f\n"
     ]
    },
    {
     "name": "stdout",
     "output_type": "stream",
     "text": [
      "Downloading and preparing dataset csv/default to /home/trokhymovych/.cache/huggingface/datasets/csv/default-0495e7d43830749f/0.0.0...\n"
     ]
    },
    {
     "data": {
      "application/vnd.jupyter.widget-view+json": {
       "model_id": "b59680ed968643c0ab74f699ea5bf73f",
       "version_major": 2,
       "version_minor": 0
      },
      "text/plain": [
       "Downloading data files:   0%|          | 0/1 [00:00<?, ?it/s]"
      ]
     },
     "metadata": {},
     "output_type": "display_data"
    },
    {
     "data": {
      "application/vnd.jupyter.widget-view+json": {
       "model_id": "6f8f0c699d674efd9878882be7ef37af",
       "version_major": 2,
       "version_minor": 0
      },
      "text/plain": [
       "Extracting data files:   0%|          | 0/1 [00:00<?, ?it/s]"
      ]
     },
     "metadata": {},
     "output_type": "display_data"
    },
    {
     "data": {
      "application/vnd.jupyter.widget-view+json": {
       "model_id": "18ebc6aac0cb4d5dac39bc90d096eddb",
       "version_major": 2,
       "version_minor": 0
      },
      "text/plain": [
       "0 tables [00:00, ? tables/s]"
      ]
     },
     "metadata": {},
     "output_type": "display_data"
    },
    {
     "name": "stdout",
     "output_type": "stream",
     "text": [
      "Dataset csv downloaded and prepared to /home/trokhymovych/.cache/huggingface/datasets/csv/default-0495e7d43830749f/0.0.0. Subsequent calls will reuse this data.\n"
     ]
    },
    {
     "data": {
      "application/vnd.jupyter.widget-view+json": {
       "model_id": "0c74e28c838a4e728814579401d9e7db",
       "version_major": 2,
       "version_minor": 0
      },
      "text/plain": [
       "Casting the dataset:   0%|          | 0/31 [00:00<?, ?ba/s]"
      ]
     },
     "metadata": {},
     "output_type": "display_data"
    }
   ],
   "source": [
    "training_dataset = Dataset.from_csv(\"data/multilingual_train/text_changes_train_balanced.csv\")\n",
    "feat_class = ClassLabel(num_classes=2, names=[\"not_reverted\", \"reverted\"])\n",
    "training_dataset = training_dataset.cast_column(\"label\", feat_class)\n",
    "\n",
    "training_dataset = training_dataset.train_test_split(test_size=0.1, stratify_by_column=\"label\", shuffle=True, seed=42)"
   ]
  },
  {
   "cell_type": "code",
   "execution_count": 42,
   "id": "b1209d43-b184-4467-a258-5fa6d36289af",
   "metadata": {},
   "outputs": [
    {
     "data": {
      "text/plain": [
       "{'sentence1': 'No studies have proven any of these claims, nor has the Food and Drug Administration (FDA) approved the recipe',\n",
       " 'sentence2': 'Numerous studies have proven any of these claims, nor has the Food and Drug Administration (FDA) approved the recipe',\n",
       " 'label': 1,\n",
       " 'revision_id': 1080158353,\n",
       " 'lang': 'enwiki'}"
      ]
     },
     "execution_count": 42,
     "metadata": {},
     "output_type": "execute_result"
    }
   ],
   "source": [
    "training_dataset['train'][0]"
   ]
  },
  {
   "cell_type": "code",
   "execution_count": 46,
   "id": "3440649a-4f3c-4ba0-88a1-cadc11ab0e73",
   "metadata": {},
   "outputs": [
    {
     "data": {
      "text/plain": [
       "sentence1      0.0\n",
       "sentence2      0.0\n",
       "label          0.0\n",
       "revision_id    0.0\n",
       "lang           0.0\n",
       "dtype: float64"
      ]
     },
     "execution_count": 46,
     "metadata": {},
     "output_type": "execute_result"
    }
   ],
   "source": [
    "training_dataset['train'].to_pandas().isna().mean()"
   ]
  },
  {
   "cell_type": "code",
   "execution_count": 44,
   "id": "67e14ba2-0812-4893-8500-6ba4e06f0190",
   "metadata": {},
   "outputs": [
    {
     "data": {
      "text/html": [
       "<div>\n",
       "<style scoped>\n",
       "    .dataframe tbody tr th:only-of-type {\n",
       "        vertical-align: middle;\n",
       "    }\n",
       "\n",
       "    .dataframe tbody tr th {\n",
       "        vertical-align: top;\n",
       "    }\n",
       "\n",
       "    .dataframe thead th {\n",
       "        text-align: right;\n",
       "    }\n",
       "</style>\n",
       "<table border=\"1\" class=\"dataframe\">\n",
       "  <thead>\n",
       "    <tr style=\"text-align: right;\">\n",
       "      <th></th>\n",
       "      <th>sentence1</th>\n",
       "      <th>sentence2</th>\n",
       "      <th>label</th>\n",
       "      <th>revision_id</th>\n",
       "      <th>lang</th>\n",
       "    </tr>\n",
       "  </thead>\n",
       "  <tbody>\n",
       "  </tbody>\n",
       "</table>\n",
       "</div>"
      ],
      "text/plain": [
       "Empty DataFrame\n",
       "Columns: [sentence1, sentence2, label, revision_id, lang]\n",
       "Index: []"
      ]
     },
     "execution_count": 44,
     "metadata": {},
     "output_type": "execute_result"
    }
   ],
   "source": [
    "tmp = training_dataset['train'].to_pandas()\n",
    "tmp[tmp.sentence2.isna()]"
   ]
  },
  {
   "cell_type": "code",
   "execution_count": 45,
   "id": "4a07c1ce-ce35-4fde-81a7-bf4f32a6174d",
   "metadata": {},
   "outputs": [
    {
     "data": {
      "application/vnd.jupyter.widget-view+json": {
       "model_id": "7619599766c542dc966d60b1293d20c3",
       "version_major": 2,
       "version_minor": 0
      },
      "text/plain": [
       "  0%|          | 0/278 [00:00<?, ?ba/s]"
      ]
     },
     "metadata": {},
     "output_type": "display_data"
    },
    {
     "data": {
      "application/vnd.jupyter.widget-view+json": {
       "model_id": "bebb6cbf40374b9392763723f2f4e046",
       "version_major": 2,
       "version_minor": 0
      },
      "text/plain": [
       "  0%|          | 0/31 [00:00<?, ?ba/s]"
      ]
     },
     "metadata": {},
     "output_type": "display_data"
    }
   ],
   "source": [
    "# tokenization:\n",
    "model_checkpoint = 'bert-base-multilingual-cased'\n",
    "tokenizer = AutoTokenizer.from_pretrained(model_checkpoint, use_fast=True)\n",
    "\n",
    "sentence1_key = \"sentence1\"\n",
    "sentence2_key = \"sentence2\"\n",
    "\n",
    "def preprocess_function(examples):\n",
    "    if sentence2_key is None:\n",
    "        return tokenizer(examples[sentence1_key], truncation=True)\n",
    "    return tokenizer(examples[sentence1_key], examples[sentence2_key], truncation=True, max_length=512)\n",
    "\n",
    "encoded_dataset = training_dataset.map(preprocess_function, batched=True)"
   ]
  },
  {
   "cell_type": "code",
   "execution_count": 47,
   "id": "9857aaa5-c75f-4aed-b44e-523e130099c1",
   "metadata": {},
   "outputs": [
    {
     "name": "stderr",
     "output_type": "stream",
     "text": [
      "Some weights of the model checkpoint at bert-base-multilingual-cased were not used when initializing BertForSequenceClassification: ['cls.seq_relationship.weight', 'cls.predictions.decoder.weight', 'cls.predictions.bias', 'cls.predictions.transform.LayerNorm.bias', 'cls.predictions.transform.dense.bias', 'cls.seq_relationship.bias', 'cls.predictions.transform.dense.weight', 'cls.predictions.transform.LayerNorm.weight']\n",
      "- This IS expected if you are initializing BertForSequenceClassification from the checkpoint of a model trained on another task or with another architecture (e.g. initializing a BertForSequenceClassification model from a BertForPreTraining model).\n",
      "- This IS NOT expected if you are initializing BertForSequenceClassification from the checkpoint of a model that you expect to be exactly identical (initializing a BertForSequenceClassification model from a BertForSequenceClassification model).\n",
      "Some weights of BertForSequenceClassification were not initialized from the model checkpoint at bert-base-multilingual-cased and are newly initialized: ['classifier.bias', 'classifier.weight']\n",
      "You should probably TRAIN this model on a down-stream task to be able to use it for predictions and inference.\n"
     ]
    }
   ],
   "source": [
    "num_labels = 2\n",
    "metric_name = \"accuracy\"\n",
    "model_name = model_checkpoint.split(\"/\")[-1]\n",
    "batch_size = 8\n",
    "\n",
    "model = AutoModelForSequenceClassification.from_pretrained(model_checkpoint, num_labels=num_labels)\n",
    "\n",
    "args = TrainingArguments(\n",
    "    f\"changes_{model_name}-finetuned-multi_balanced\",\n",
    "    evaluation_strategy = \"epoch\",\n",
    "    save_strategy = \"epoch\",\n",
    "    learning_rate=2e-5,\n",
    "    per_device_train_batch_size=batch_size,\n",
    "    per_device_eval_batch_size=batch_size,\n",
    "    num_train_epochs=5,\n",
    "    weight_decay=0.01,\n",
    "    load_best_model_at_end=True,\n",
    "    metric_for_best_model=metric_name,\n",
    "    push_to_hub=False,\n",
    ")\n",
    "\n",
    "metric = load_metric(\"glue\", \"mrpc\")\n",
    "def compute_metrics(eval_pred):\n",
    "    predictions, labels = eval_pred\n",
    "    predictions = np.argmax(predictions, axis=1)\n",
    "    return metric.compute(predictions=predictions, references=labels)\n",
    "\n",
    "trainer = Trainer(\n",
    "    model,\n",
    "    args,\n",
    "    train_dataset=encoded_dataset[\"train\"],\n",
    "    eval_dataset=encoded_dataset[\"test\"],\n",
    "    tokenizer=tokenizer,\n",
    "    compute_metrics=compute_metrics\n",
    ")"
   ]
  },
  {
   "cell_type": "code",
   "execution_count": 48,
   "id": "054b38af-365c-4df5-8b93-912b90e62456",
   "metadata": {},
   "outputs": [
    {
     "name": "stderr",
     "output_type": "stream",
     "text": [
      "The following columns in the training set don't have a corresponding argument in `BertForSequenceClassification.forward` and have been ignored: revision_id, lang, sentence2, sentence1. If revision_id, lang, sentence2, sentence1 are not expected by `BertForSequenceClassification.forward`,  you can safely ignore this message.\n",
      "/home/trokhymovych/.conda/envs/2022-08-18T15.21.49_trokhymovych/lib/python3.7/site-packages/transformers/optimization.py:310: FutureWarning: This implementation of AdamW is deprecated and will be removed in a future version. Use the PyTorch implementation torch.optim.AdamW instead, or set `no_deprecation_warning=True` to disable this warning\n",
      "  FutureWarning,\n",
      "***** Running training *****\n",
      "  Num examples = 277974\n",
      "  Num Epochs = 5\n",
      "  Instantaneous batch size per device = 8\n",
      "  Total train batch size (w. parallel, distributed & accumulation) = 8\n",
      "  Gradient Accumulation steps = 1\n",
      "  Total optimization steps = 173735\n"
     ]
    },
    {
     "data": {
      "text/html": [
       "\n",
       "    <div>\n",
       "      \n",
       "      <progress value='173735' max='173735' style='width:300px; height:20px; vertical-align: middle;'></progress>\n",
       "      [173735/173735 11:12:28, Epoch 5/5]\n",
       "    </div>\n",
       "    <table border=\"1\" class=\"dataframe\">\n",
       "  <thead>\n",
       " <tr style=\"text-align: left;\">\n",
       "      <th>Epoch</th>\n",
       "      <th>Training Loss</th>\n",
       "      <th>Validation Loss</th>\n",
       "      <th>Accuracy</th>\n",
       "      <th>F1</th>\n",
       "    </tr>\n",
       "  </thead>\n",
       "  <tbody>\n",
       "    <tr>\n",
       "      <td>1</td>\n",
       "      <td>0.562900</td>\n",
       "      <td>0.556735</td>\n",
       "      <td>0.714790</td>\n",
       "      <td>0.676128</td>\n",
       "    </tr>\n",
       "    <tr>\n",
       "      <td>2</td>\n",
       "      <td>0.508100</td>\n",
       "      <td>0.574525</td>\n",
       "      <td>0.730169</td>\n",
       "      <td>0.722865</td>\n",
       "    </tr>\n",
       "    <tr>\n",
       "      <td>3</td>\n",
       "      <td>0.432000</td>\n",
       "      <td>0.641158</td>\n",
       "      <td>0.727579</td>\n",
       "      <td>0.729731</td>\n",
       "    </tr>\n",
       "    <tr>\n",
       "      <td>4</td>\n",
       "      <td>0.364800</td>\n",
       "      <td>0.834820</td>\n",
       "      <td>0.731302</td>\n",
       "      <td>0.727392</td>\n",
       "    </tr>\n",
       "    <tr>\n",
       "      <td>5</td>\n",
       "      <td>0.317600</td>\n",
       "      <td>1.126580</td>\n",
       "      <td>0.724924</td>\n",
       "      <td>0.732224</td>\n",
       "    </tr>\n",
       "  </tbody>\n",
       "</table><p>"
      ],
      "text/plain": [
       "<IPython.core.display.HTML object>"
      ]
     },
     "metadata": {},
     "output_type": "display_data"
    },
    {
     "name": "stderr",
     "output_type": "stream",
     "text": [
      "The following columns in the evaluation set don't have a corresponding argument in `BertForSequenceClassification.forward` and have been ignored: revision_id, lang, sentence2, sentence1. If revision_id, lang, sentence2, sentence1 are not expected by `BertForSequenceClassification.forward`,  you can safely ignore this message.\n",
      "***** Running Evaluation *****\n",
      "  Num examples = 30886\n",
      "  Batch size = 8\n",
      "Saving model checkpoint to insert_bert-base-multilingual-cased-finetuned-multi_balanced/checkpoint-34747\n",
      "Configuration saved in insert_bert-base-multilingual-cased-finetuned-multi_balanced/checkpoint-34747/config.json\n",
      "Model weights saved in insert_bert-base-multilingual-cased-finetuned-multi_balanced/checkpoint-34747/pytorch_model.bin\n",
      "tokenizer config file saved in insert_bert-base-multilingual-cased-finetuned-multi_balanced/checkpoint-34747/tokenizer_config.json\n",
      "Special tokens file saved in insert_bert-base-multilingual-cased-finetuned-multi_balanced/checkpoint-34747/special_tokens_map.json\n",
      "The following columns in the evaluation set don't have a corresponding argument in `BertForSequenceClassification.forward` and have been ignored: revision_id, lang, sentence2, sentence1. If revision_id, lang, sentence2, sentence1 are not expected by `BertForSequenceClassification.forward`,  you can safely ignore this message.\n",
      "***** Running Evaluation *****\n",
      "  Num examples = 30886\n",
      "  Batch size = 8\n",
      "Saving model checkpoint to insert_bert-base-multilingual-cased-finetuned-multi_balanced/checkpoint-69494\n",
      "Configuration saved in insert_bert-base-multilingual-cased-finetuned-multi_balanced/checkpoint-69494/config.json\n",
      "Model weights saved in insert_bert-base-multilingual-cased-finetuned-multi_balanced/checkpoint-69494/pytorch_model.bin\n",
      "tokenizer config file saved in insert_bert-base-multilingual-cased-finetuned-multi_balanced/checkpoint-69494/tokenizer_config.json\n",
      "Special tokens file saved in insert_bert-base-multilingual-cased-finetuned-multi_balanced/checkpoint-69494/special_tokens_map.json\n",
      "The following columns in the evaluation set don't have a corresponding argument in `BertForSequenceClassification.forward` and have been ignored: revision_id, lang, sentence2, sentence1. If revision_id, lang, sentence2, sentence1 are not expected by `BertForSequenceClassification.forward`,  you can safely ignore this message.\n",
      "***** Running Evaluation *****\n",
      "  Num examples = 30886\n",
      "  Batch size = 8\n",
      "Saving model checkpoint to insert_bert-base-multilingual-cased-finetuned-multi_balanced/checkpoint-104241\n",
      "Configuration saved in insert_bert-base-multilingual-cased-finetuned-multi_balanced/checkpoint-104241/config.json\n",
      "Model weights saved in insert_bert-base-multilingual-cased-finetuned-multi_balanced/checkpoint-104241/pytorch_model.bin\n",
      "tokenizer config file saved in insert_bert-base-multilingual-cased-finetuned-multi_balanced/checkpoint-104241/tokenizer_config.json\n",
      "Special tokens file saved in insert_bert-base-multilingual-cased-finetuned-multi_balanced/checkpoint-104241/special_tokens_map.json\n",
      "The following columns in the evaluation set don't have a corresponding argument in `BertForSequenceClassification.forward` and have been ignored: revision_id, lang, sentence2, sentence1. If revision_id, lang, sentence2, sentence1 are not expected by `BertForSequenceClassification.forward`,  you can safely ignore this message.\n",
      "***** Running Evaluation *****\n",
      "  Num examples = 30886\n",
      "  Batch size = 8\n",
      "Saving model checkpoint to insert_bert-base-multilingual-cased-finetuned-multi_balanced/checkpoint-138988\n",
      "Configuration saved in insert_bert-base-multilingual-cased-finetuned-multi_balanced/checkpoint-138988/config.json\n",
      "Model weights saved in insert_bert-base-multilingual-cased-finetuned-multi_balanced/checkpoint-138988/pytorch_model.bin\n",
      "tokenizer config file saved in insert_bert-base-multilingual-cased-finetuned-multi_balanced/checkpoint-138988/tokenizer_config.json\n",
      "Special tokens file saved in insert_bert-base-multilingual-cased-finetuned-multi_balanced/checkpoint-138988/special_tokens_map.json\n",
      "The following columns in the evaluation set don't have a corresponding argument in `BertForSequenceClassification.forward` and have been ignored: revision_id, lang, sentence2, sentence1. If revision_id, lang, sentence2, sentence1 are not expected by `BertForSequenceClassification.forward`,  you can safely ignore this message.\n",
      "***** Running Evaluation *****\n",
      "  Num examples = 30886\n",
      "  Batch size = 8\n",
      "Saving model checkpoint to insert_bert-base-multilingual-cased-finetuned-multi_balanced/checkpoint-173735\n",
      "Configuration saved in insert_bert-base-multilingual-cased-finetuned-multi_balanced/checkpoint-173735/config.json\n",
      "Model weights saved in insert_bert-base-multilingual-cased-finetuned-multi_balanced/checkpoint-173735/pytorch_model.bin\n",
      "tokenizer config file saved in insert_bert-base-multilingual-cased-finetuned-multi_balanced/checkpoint-173735/tokenizer_config.json\n",
      "Special tokens file saved in insert_bert-base-multilingual-cased-finetuned-multi_balanced/checkpoint-173735/special_tokens_map.json\n",
      "\n",
      "\n",
      "Training completed. Do not forget to share your model on huggingface.co/models =)\n",
      "\n",
      "\n",
      "Loading best model from insert_bert-base-multilingual-cased-finetuned-multi_balanced/checkpoint-138988 (score: 0.7313022081201839).\n"
     ]
    },
    {
     "data": {
      "text/plain": [
       "TrainOutput(global_step=173735, training_loss=0.44841973653343165, metrics={'train_runtime': 40356.1467, 'train_samples_per_second': 34.44, 'train_steps_per_second': 4.305, 'total_flos': 1.0415135809783368e+17, 'train_loss': 0.44841973653343165, 'epoch': 5.0})"
      ]
     },
     "execution_count": 48,
     "metadata": {},
     "output_type": "execute_result"
    }
   ],
   "source": [
    "trainer.train()"
   ]
  },
  {
   "cell_type": "code",
   "execution_count": 49,
   "id": "088cdd65-83f4-45cb-a02e-f7da2b947444",
   "metadata": {},
   "outputs": [
    {
     "name": "stderr",
     "output_type": "stream",
     "text": [
      "The following columns in the evaluation set don't have a corresponding argument in `BertForSequenceClassification.forward` and have been ignored: revision_id, lang, sentence2, sentence1. If revision_id, lang, sentence2, sentence1 are not expected by `BertForSequenceClassification.forward`,  you can safely ignore this message.\n",
      "***** Running Evaluation *****\n",
      "  Num examples = 30886\n",
      "  Batch size = 8\n"
     ]
    },
    {
     "data": {
      "text/html": [],
      "text/plain": [
       "<IPython.core.display.HTML object>"
      ]
     },
     "metadata": {},
     "output_type": "display_data"
    },
    {
     "data": {
      "text/plain": [
       "{'eval_loss': 0.8348198533058167,\n",
       " 'eval_accuracy': 0.7313022081201839,\n",
       " 'eval_f1': 0.7273921755411753,\n",
       " 'eval_runtime': 221.8241,\n",
       " 'eval_samples_per_second': 139.236,\n",
       " 'eval_steps_per_second': 17.406,\n",
       " 'epoch': 5.0}"
      ]
     },
     "execution_count": 49,
     "metadata": {},
     "output_type": "execute_result"
    }
   ],
   "source": [
    "trainer.evaluate()"
   ]
  },
  {
   "cell_type": "code",
   "execution_count": 50,
   "id": "82f2e7e2-e3b2-4f4e-9d30-dea8ad595680",
   "metadata": {},
   "outputs": [
    {
     "name": "stderr",
     "output_type": "stream",
     "text": [
      "The following columns in the test set don't have a corresponding argument in `BertForSequenceClassification.forward` and have been ignored: revision_id, lang, sentence2, sentence1. If revision_id, lang, sentence2, sentence1 are not expected by `BertForSequenceClassification.forward`,  you can safely ignore this message.\n",
      "***** Running Prediction *****\n",
      "  Num examples = 30886\n",
      "  Batch size = 8\n"
     ]
    },
    {
     "data": {
      "text/html": [
       "<div>\n",
       "<style scoped>\n",
       "    .dataframe tbody tr th:only-of-type {\n",
       "        vertical-align: middle;\n",
       "    }\n",
       "\n",
       "    .dataframe tbody tr th {\n",
       "        vertical-align: top;\n",
       "    }\n",
       "\n",
       "    .dataframe thead th {\n",
       "        text-align: right;\n",
       "    }\n",
       "</style>\n",
       "<table border=\"1\" class=\"dataframe\">\n",
       "  <thead>\n",
       "    <tr style=\"text-align: right;\">\n",
       "      <th></th>\n",
       "      <th>count</th>\n",
       "      <th>mean</th>\n",
       "      <th>std</th>\n",
       "      <th>min</th>\n",
       "      <th>25%</th>\n",
       "      <th>50%</th>\n",
       "      <th>75%</th>\n",
       "      <th>max</th>\n",
       "    </tr>\n",
       "    <tr>\n",
       "      <th>revision_is_identity_reverted</th>\n",
       "      <th></th>\n",
       "      <th></th>\n",
       "      <th></th>\n",
       "      <th></th>\n",
       "      <th></th>\n",
       "      <th></th>\n",
       "      <th></th>\n",
       "      <th></th>\n",
       "    </tr>\n",
       "  </thead>\n",
       "  <tbody>\n",
       "    <tr>\n",
       "      <th>0</th>\n",
       "      <td>15443.0</td>\n",
       "      <td>-0.704582</td>\n",
       "      <td>1.325125</td>\n",
       "      <td>-2.067000</td>\n",
       "      <td>-1.647868</td>\n",
       "      <td>-1.307445</td>\n",
       "      <td>-0.024474</td>\n",
       "      <td>2.183171</td>\n",
       "    </tr>\n",
       "    <tr>\n",
       "      <th>1</th>\n",
       "      <td>15443.0</td>\n",
       "      <td>0.943397</td>\n",
       "      <td>1.472622</td>\n",
       "      <td>-2.034232</td>\n",
       "      <td>-0.611845</td>\n",
       "      <td>1.816553</td>\n",
       "      <td>2.170639</td>\n",
       "      <td>2.185656</td>\n",
       "    </tr>\n",
       "  </tbody>\n",
       "</table>\n",
       "</div>"
      ],
      "text/plain": [
       "                                 count      mean       std       min  \\\n",
       "revision_is_identity_reverted                                          \n",
       "0                              15443.0 -0.704582  1.325125 -2.067000   \n",
       "1                              15443.0  0.943397  1.472622 -2.034232   \n",
       "\n",
       "                                    25%       50%       75%       max  \n",
       "revision_is_identity_reverted                                          \n",
       "0                             -1.647868 -1.307445 -0.024474  2.183171  \n",
       "1                             -0.611845  1.816553  2.170639  2.185656  "
      ]
     },
     "metadata": {},
     "output_type": "display_data"
    },
    {
     "data": {
      "text/plain": [
       "<AxesSubplot:title={'center':'prediction_score'}, xlabel='revision_is_identity_reverted'>"
      ]
     },
     "execution_count": 50,
     "metadata": {},
     "output_type": "execute_result"
    },
    {
     "data": {
      "image/png": "[encoded data removed]",
      "text/plain": [
       "<Figure size 432x288 with 1 Axes>"
      ]
     },
     "metadata": {
      "needs_background": "light"
     },
     "output_type": "display_data"
    }
   ],
   "source": [
    "predictions = trainer.predict(encoded_dataset[\"test\"])\n",
    "test = pd.DataFrame({\n",
    "                       \"prediction_score\": predictions.predictions[:, 1],\n",
    "                       \"revision_is_identity_reverted\": predictions.label_ids,\n",
    "                        \"lang\": encoded_dataset[\"test\"].to_pandas()[\"lang\"]\n",
    "                      })\n",
    "display(test.groupby(\"revision_is_identity_reverted\")[\"prediction_score\"].describe())\n",
    "test.boxplot(column=\"prediction_score\", by=\"revision_is_identity_reverted\")"
   ]
  },
  {
   "cell_type": "code",
   "execution_count": 51,
   "id": "4d91400b-b7a3-4bd1-b46a-45c96b7ab0cf",
   "metadata": {},
   "outputs": [
    {
     "name": "stderr",
     "output_type": "stream",
     "text": [
      "/home/trokhymovych/.conda/envs/2022-08-18T15.21.49_trokhymovych/lib/python3.7/site-packages/seaborn/_decorators.py:43: FutureWarning: Pass the following variables as keyword args: x, y. From version 0.12, the only valid positional argument will be `data`, and passing other arguments without an explicit keyword will result in an error or misinterpretation.\n",
      "  FutureWarning\n"
     ]
    },
    {
     "data": {
      "image/png": "[encoded data removed]",
      "text/plain": [
       "<Figure size 432x288 with 1 Axes>"
      ]
     },
     "metadata": {
      "needs_background": "light"
     },
     "output_type": "display_data"
    }
   ],
   "source": [
    "import seaborn as sns\n",
    "import matplotlib.pyplot as plt\n",
    "\n",
    "fig, axes = plt.subplots()\n",
    "# plot violin. 'Scenario' is according to x axis, \n",
    "# 'LMP' is y axis, data is your dataframe. ax - is axes instance\n",
    "sns.violinplot('revision_is_identity_reverted', \"prediction_score\", data=test, ax = axes)\n",
    "axes.set_title('Distribution of is_reverted scores')\n",
    "\n",
    "axes.yaxis.grid(True)\n",
    "axes.set_xlabel('True is reverted')\n",
    "axes.set_ylabel('Model scores')\n",
    "\n",
    "plt.show()"
   ]
  },
  {
   "cell_type": "code",
   "execution_count": 53,
   "id": "ea55df53-e45a-4d88-afa5-529c88ebe7af",
   "metadata": {},
   "outputs": [
    {
     "data": {
      "image/png": "[encoded data removed]",
      "text/plain": [
       "<Figure size 432x288 with 1 Axes>"
      ]
     },
     "metadata": {
      "needs_background": "light"
     },
     "output_type": "display_data"
    }
   ],
   "source": [
    "import seaborn as sns\n",
    "import matplotlib.pyplot as plt\n",
    "\n",
    "fig, axes = plt.subplots()\n",
    "# plot violin. 'Scenario' is according to x axis, \n",
    "# 'LMP' is y axis, data is your dataframe. ax - is axes instance\n",
    "sns.violinplot('revision_is_identity_reverted', \"prediction_score\", data=test[test.lang == \"enwiki\"], ax = axes)\n",
    "axes.set_title('Distribution of is_reverted scores en')\n",
    "\n",
    "axes.yaxis.grid(True)\n",
    "axes.set_xlabel('True is reverted')\n",
    "axes.set_ylabel('Model scores')\n",
    "\n",
    "plt.show()"
   ]
  },
  {
   "cell_type": "code",
   "execution_count": 55,
   "id": "f0e095e9-76ed-49bd-9c22-54ee0e4494be",
   "metadata": {},
   "outputs": [
    {
     "name": "stderr",
     "output_type": "stream",
     "text": [
      "/home/trokhymovych/.conda/envs/2022-08-18T15.21.49_trokhymovych/lib/python3.7/site-packages/seaborn/_decorators.py:43: FutureWarning: Pass the following variables as keyword args: x, y. From version 0.12, the only valid positional argument will be `data`, and passing other arguments without an explicit keyword will result in an error or misinterpretation.\n",
      "  FutureWarning\n"
     ]
    },
    {
     "data": {
      "image/png": "[encoded data removed]",
      "text/plain": [
       "<Figure size 432x288 with 1 Axes>"
      ]
     },
     "metadata": {
      "needs_background": "light"
     },
     "output_type": "display_data"
    }
   ],
   "source": [
    "import seaborn as sns\n",
    "import matplotlib.pyplot as plt\n",
    "\n",
    "fig, axes = plt.subplots()\n",
    "# plot violin. 'Scenario' is according to x axis, \n",
    "# 'LMP' is y axis, data is your dataframe. ax - is axes instance\n",
    "sns.violinplot('revision_is_identity_reverted', \"prediction_score\", data=test[test.lang == \"ruwiki\"], ax = axes)\n",
    "axes.set_title('Distribution of is_reverted scores ru')\n",
    "\n",
    "axes.yaxis.grid(True)\n",
    "axes.set_xlabel('True is reverted')\n",
    "axes.set_ylabel('Model scores')\n",
    "\n",
    "plt.show()"
   ]
  },
  {
   "cell_type": "code",
   "execution_count": 56,
   "id": "466ae429-1f43-476e-b358-148081e9b8fc",
   "metadata": {},
   "outputs": [
    {
     "name": "stderr",
     "output_type": "stream",
     "text": [
      "/home/trokhymovych/.conda/envs/2022-08-18T15.21.49_trokhymovych/lib/python3.7/site-packages/seaborn/_decorators.py:43: FutureWarning: Pass the following variables as keyword args: x, y. From version 0.12, the only valid positional argument will be `data`, and passing other arguments without an explicit keyword will result in an error or misinterpretation.\n",
      "  FutureWarning\n"
     ]
    },
    {
     "data": {
      "image/png": "[encoded data removed]",
      "text/plain": [
       "<Figure size 432x288 with 1 Axes>"
      ]
     },
     "metadata": {
      "needs_background": "light"
     },
     "output_type": "display_data"
    }
   ],
   "source": [
    "import seaborn as sns\n",
    "import matplotlib.pyplot as plt\n",
    "\n",
    "fig, axes = plt.subplots()\n",
    "# plot violin. 'Scenario' is according to x axis, \n",
    "# 'LMP' is y axis, data is your dataframe. ax - is axes instance\n",
    "sns.violinplot('revision_is_identity_reverted', \"prediction_score\", data=test[test.lang == \"ukwiki\"], ax = axes)\n",
    "axes.set_title('Distribution of is_reverted scores uk')\n",
    "\n",
    "axes.yaxis.grid(True)\n",
    "axes.set_xlabel('True is reverted')\n",
    "axes.set_ylabel('Model scores')\n",
    "\n",
    "plt.show()"
   ]
  },
  {
   "cell_type": "code",
   "execution_count": 57,
   "id": "90e191d0-2c0a-4b40-9bd3-0400d72fd082",
   "metadata": {},
   "outputs": [
    {
     "name": "stderr",
     "output_type": "stream",
     "text": [
      "/home/trokhymovych/.conda/envs/2022-08-18T15.21.49_trokhymovych/lib/python3.7/site-packages/seaborn/_decorators.py:43: FutureWarning: Pass the following variables as keyword args: x, y. From version 0.12, the only valid positional argument will be `data`, and passing other arguments without an explicit keyword will result in an error or misinterpretation.\n",
      "  FutureWarning\n"
     ]
    },
    {
     "data": {
      "image/png": "[encoded data removed]",
      "text/plain": [
       "<Figure size 432x288 with 1 Axes>"
      ]
     },
     "metadata": {
      "needs_background": "light"
     },
     "output_type": "display_data"
    }
   ],
   "source": [
    "import seaborn as sns\n",
    "import matplotlib.pyplot as plt\n",
    "\n",
    "fig, axes = plt.subplots()\n",
    "# plot violin. 'Scenario' is according to x axis, \n",
    "# 'LMP' is y axis, data is your dataframe. ax - is axes instance\n",
    "sns.violinplot('revision_is_identity_reverted', \"prediction_score\", data=test[test.lang == \"eswiki\"], ax = axes)\n",
    "axes.set_title('Distribution of is_reverted scores uk')\n",
    "\n",
    "axes.yaxis.grid(True)\n",
    "axes.set_xlabel('True is reverted')\n",
    "axes.set_ylabel('Model scores')\n",
    "\n",
    "plt.show()"
   ]
  }
 ],
 "metadata": {
  "kernelspec": {
   "display_name": "Python 3 (ipykernel)",
   "language": "python",
   "name": "python3"
  },
  "language_info": {
   "codemirror_mode": {
    "name": "ipython",
    "version": 3
   },
   "file_extension": ".py",
   "mimetype": "text/x-python",
   "name": "python",
   "nbconvert_exporter": "python",
   "pygments_lexer": "ipython3",
   "version": "3.7.6"
  }
 },
 "nbformat": 4,
 "nbformat_minor": 5
}
