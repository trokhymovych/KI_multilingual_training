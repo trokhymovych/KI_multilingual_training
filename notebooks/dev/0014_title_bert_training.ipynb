{
 "cells": [
  {
   "cell_type": "code",
   "execution_count": 1,
   "id": "00943a52-823a-40ca-9ab6-c2abd5492828",
   "metadata": {},
   "outputs": [
    {
     "name": "stderr",
     "output_type": "stream",
     "text": [
      "/home/trokhymovych/.conda/envs/2022-08-18T15.21.49_trokhymovych/lib/python3.7/site-packages/IPython/core/interactiveshell.py:3186: DtypeWarning: Columns (24) have mixed types.Specify dtype option on import or set low_memory=False.\n",
      "  interactivity=interactivity, compiler=compiler, result=result)\n"
     ]
    }
   ],
   "source": [
    "import pandas as pd\n",
    "import numpy as np\n",
    "from tqdm import tqdm\n",
    "import ast\n",
    "\n",
    "import pandas as pd\n",
    "import numpy as np\n",
    "from tqdm import tqdm\n",
    "import ast\n",
    "\n",
    "cc_codes = [\"uk\", \"de\", \"pl\", \"es\", \"ru\", \"en\"]\n",
    "filename_pattern_train = \"data/multilingual_train/train_{}.csv\".format(\"_\".join(cc_codes))\n",
    "\n",
    "data = pd.read_csv(filename_pattern_train)\n",
    "data = data[data[\"is_text_train\"] == 1]"
   ]
  },
  {
   "cell_type": "code",
   "execution_count": 2,
   "id": "65f0b3e2-bd33-4f12-b0b7-8a03621613f8",
   "metadata": {},
   "outputs": [],
   "source": [
    "MIN_REV = 5\n",
    "\n",
    "titles_stats = data.groupby(\"page_title\").agg({\"revision_is_identity_reverted\": [\"mean\", \"count\"], \"wiki_db\":[\"first\"]}).reset_index()\n",
    "titles_stats.columns = [\"page_title\", \"label\", \"rev_count\", \"wikidb\"]\n",
    "titles_stats = titles_stats[titles_stats.rev_count >= MIN_REV]\n",
    "titles_stats.page_title = titles_stats.page_title.apply(lambda x: x.replace(\"_\", \" \"))\n",
    "titles_stats.to_csv(\"data/multilingual_train/titles_semantic.csv\", index=False)"
   ]
  },
  {
   "cell_type": "markdown",
   "id": "c5d3925d-c65a-46a3-a8fa-2a00aa63cc15",
   "metadata": {},
   "source": [
    "## Modeling attemp: "
   ]
  },
  {
   "cell_type": "code",
   "execution_count": 3,
   "id": "23750cad-d35a-4c77-89e1-68db87f04f49",
   "metadata": {},
   "outputs": [],
   "source": [
    "from datasets import load_dataset, load_metric, Dataset, ClassLabel\n",
    "from transformers import AutoTokenizer\n",
    "from transformers import AutoModelForSequenceClassification, TrainingArguments, Trainer"
   ]
  },
  {
   "cell_type": "code",
   "execution_count": 4,
   "id": "7b3b2fc9-e58c-4aa1-896f-dc55cf3f0369",
   "metadata": {},
   "outputs": [
    {
     "name": "stderr",
     "output_type": "stream",
     "text": [
      "Using custom data configuration default-072050b451829ce7\n"
     ]
    },
    {
     "name": "stdout",
     "output_type": "stream",
     "text": [
      "Downloading and preparing dataset csv/default to /home/trokhymovych/.cache/huggingface/datasets/csv/default-072050b451829ce7/0.0.0...\n"
     ]
    },
    {
     "data": {
      "application/vnd.jupyter.widget-view+json": {
       "model_id": "69e62d03a70b40039df2005373e0b303",
       "version_major": 2,
       "version_minor": 0
      },
      "text/plain": [
       "Downloading data files:   0%|          | 0/1 [00:00<?, ?it/s]"
      ]
     },
     "metadata": {},
     "output_type": "display_data"
    },
    {
     "data": {
      "application/vnd.jupyter.widget-view+json": {
       "model_id": "c5ad4490c2dd4b9a8bce2ca786b603f6",
       "version_major": 2,
       "version_minor": 0
      },
      "text/plain": [
       "Extracting data files:   0%|          | 0/1 [00:00<?, ?it/s]"
      ]
     },
     "metadata": {},
     "output_type": "display_data"
    },
    {
     "data": {
      "application/vnd.jupyter.widget-view+json": {
       "model_id": "e33d6939d3fc4c4f81bd06e669716614",
       "version_major": 2,
       "version_minor": 0
      },
      "text/plain": [
       "0 tables [00:00, ? tables/s]"
      ]
     },
     "metadata": {},
     "output_type": "display_data"
    },
    {
     "name": "stdout",
     "output_type": "stream",
     "text": [
      "Dataset csv downloaded and prepared to /home/trokhymovych/.cache/huggingface/datasets/csv/default-072050b451829ce7/0.0.0. Subsequent calls will reuse this data.\n"
     ]
    }
   ],
   "source": [
    "training_dataset = Dataset.from_csv(\"data/multilingual_train/titles_semantic.csv\")\n",
    "training_dataset = training_dataset.train_test_split(test_size=0.1, shuffle=True, seed=42)"
   ]
  },
  {
   "cell_type": "code",
   "execution_count": 11,
   "id": "b1209d43-b184-4467-a258-5fa6d36289af",
   "metadata": {},
   "outputs": [
    {
     "data": {
      "text/plain": [
       "{'page_title': 'Iskander', 'label': 0.0, 'rev_count': 5, 'wikidb': 'eswiki'}"
      ]
     },
     "execution_count": 11,
     "metadata": {},
     "output_type": "execute_result"
    }
   ],
   "source": [
    "training_dataset['test'][4]"
   ]
  },
  {
   "cell_type": "code",
   "execution_count": 6,
   "id": "f36529f5-a1be-40f8-9765-87667a87eb98",
   "metadata": {},
   "outputs": [
    {
     "data": {
      "text/plain": [
       "{'page_title': 'Sheesh', 'label': 0.8, 'rev_count': 5, 'wikidb': 'enwiki'}"
      ]
     },
     "execution_count": 6,
     "metadata": {},
     "output_type": "execute_result"
    }
   ],
   "source": [
    "training_dataset['train'][0]"
   ]
  },
  {
   "cell_type": "code",
   "execution_count": 7,
   "id": "4a07c1ce-ce35-4fde-81a7-bf4f32a6174d",
   "metadata": {},
   "outputs": [
    {
     "data": {
      "application/vnd.jupyter.widget-view+json": {
       "model_id": "430c6dbd677b46ae85d6270c9099a272",
       "version_major": 2,
       "version_minor": 0
      },
      "text/plain": [
       "  0%|          | 0/31 [00:00<?, ?ba/s]"
      ]
     },
     "metadata": {},
     "output_type": "display_data"
    },
    {
     "data": {
      "application/vnd.jupyter.widget-view+json": {
       "model_id": "3694560702fb4723ba853c693b75047f",
       "version_major": 2,
       "version_minor": 0
      },
      "text/plain": [
       "  0%|          | 0/4 [00:00<?, ?ba/s]"
      ]
     },
     "metadata": {},
     "output_type": "display_data"
    }
   ],
   "source": [
    "# tokenization:\n",
    "model_checkpoint = 'bert-base-multilingual-cased'\n",
    "tokenizer = AutoTokenizer.from_pretrained(model_checkpoint, use_fast=True)\n",
    "\n",
    "sentence1_key = \"page_title\"\n",
    "sentence2_key = None\n",
    "\n",
    "def preprocess_function(examples):\n",
    "    return tokenizer(examples[sentence1_key], truncation=True,  max_length=512)\n",
    "    \n",
    "encoded_dataset = training_dataset.map(preprocess_function, batched=True)"
   ]
  },
  {
   "cell_type": "code",
   "execution_count": 12,
   "id": "9857aaa5-c75f-4aed-b44e-523e130099c1",
   "metadata": {},
   "outputs": [
    {
     "name": "stderr",
     "output_type": "stream",
     "text": [
      "Some weights of the model checkpoint at bert-base-multilingual-cased were not used when initializing BertForSequenceClassification: ['cls.predictions.transform.LayerNorm.weight', 'cls.predictions.bias', 'cls.predictions.transform.dense.bias', 'cls.predictions.transform.LayerNorm.bias', 'cls.predictions.decoder.weight', 'cls.predictions.transform.dense.weight', 'cls.seq_relationship.weight', 'cls.seq_relationship.bias']\n",
      "- This IS expected if you are initializing BertForSequenceClassification from the checkpoint of a model trained on another task or with another architecture (e.g. initializing a BertForSequenceClassification model from a BertForPreTraining model).\n",
      "- This IS NOT expected if you are initializing BertForSequenceClassification from the checkpoint of a model that you expect to be exactly identical (initializing a BertForSequenceClassification model from a BertForSequenceClassification model).\n",
      "Some weights of BertForSequenceClassification were not initialized from the model checkpoint at bert-base-multilingual-cased and are newly initialized: ['classifier.weight', 'classifier.bias']\n",
      "You should probably TRAIN this model on a down-stream task to be able to use it for predictions and inference.\n"
     ]
    }
   ],
   "source": [
    "num_labels = 1\n",
    "metric_name = \"rmse\"\n",
    "model_name = model_checkpoint.split(\"/\")[-1]\n",
    "batch_size = 8\n",
    "model = AutoModelForSequenceClassification.from_pretrained(model_checkpoint, num_labels=num_labels)\n",
    "\n",
    "args = TrainingArguments(\n",
    "    f\"title_{model_name}-finetuned-multi_balanced\",\n",
    "    evaluation_strategy = \"epoch\",\n",
    "    save_strategy = \"epoch\",\n",
    "    learning_rate=2e-5,\n",
    "    per_device_train_batch_size=batch_size,\n",
    "    per_device_eval_batch_size=batch_size,\n",
    "    num_train_epochs=5,\n",
    "    weight_decay=0.01,\n",
    "    load_best_model_at_end=True,\n",
    "    metric_for_best_model=metric_name,\n",
    "    push_to_hub=False,\n",
    ")\n",
    "\n",
    "from datasets import load_metric\n",
    "from sklearn.metrics import mean_squared_error\n",
    "def compute_metrics(eval_pred):\n",
    "    predictions, labels = eval_pred\n",
    "    rmse = mean_squared_error(labels, predictions, squared=False)\n",
    "    return {\"rmse\": rmse}\n",
    "\n",
    "trainer = Trainer(\n",
    "    model,\n",
    "    args,\n",
    "    train_dataset=encoded_dataset[\"train\"],\n",
    "    eval_dataset=encoded_dataset[\"test\"],\n",
    "    tokenizer=tokenizer,\n",
    "    compute_metrics=compute_metrics\n",
    ")"
   ]
  },
  {
   "cell_type": "code",
   "execution_count": null,
   "id": "054b38af-365c-4df5-8b93-912b90e62456",
   "metadata": {},
   "outputs": [
    {
     "name": "stderr",
     "output_type": "stream",
     "text": [
      "The following columns in the training set don't have a corresponding argument in `BertForSequenceClassification.forward` and have been ignored: rev_count, page_title, wikidb. If rev_count, page_title, wikidb are not expected by `BertForSequenceClassification.forward`,  you can safely ignore this message.\n",
      "/home/trokhymovych/.conda/envs/2022-08-18T15.21.49_trokhymovych/lib/python3.7/site-packages/transformers/optimization.py:310: FutureWarning: This implementation of AdamW is deprecated and will be removed in a future version. Use the PyTorch implementation torch.optim.AdamW instead, or set `no_deprecation_warning=True` to disable this warning\n",
      "  FutureWarning,\n",
      "***** Running training *****\n",
      "  Num examples = 30825\n",
      "  Num Epochs = 5\n",
      "  Instantaneous batch size per device = 8\n",
      "  Total train batch size (w. parallel, distributed & accumulation) = 8\n",
      "  Gradient Accumulation steps = 1\n",
      "  Total optimization steps = 19270\n"
     ]
    },
    {
     "data": {
      "text/html": [
       "\n",
       "    <div>\n",
       "      \n",
       "      <progress value='781' max='19270' style='width:300px; height:20px; vertical-align: middle;'></progress>\n",
       "      [  781/19270 01:36 < 38:07, 8.08 it/s, Epoch 0.20/5]\n",
       "    </div>\n",
       "    <table border=\"1\" class=\"dataframe\">\n",
       "  <thead>\n",
       " <tr style=\"text-align: left;\">\n",
       "      <th>Epoch</th>\n",
       "      <th>Training Loss</th>\n",
       "      <th>Validation Loss</th>\n",
       "    </tr>\n",
       "  </thead>\n",
       "  <tbody>\n",
       "  </tbody>\n",
       "</table><p>"
      ],
      "text/plain": [
       "<IPython.core.display.HTML object>"
      ]
     },
     "metadata": {},
     "output_type": "display_data"
    }
   ],
   "source": [
    "trainer.train()"
   ]
  },
  {
   "cell_type": "code",
   "execution_count": 19,
   "id": "088cdd65-83f4-45cb-a02e-f7da2b947444",
   "metadata": {},
   "outputs": [
    {
     "name": "stderr",
     "output_type": "stream",
     "text": [
      "The following columns in the evaluation set don't have a corresponding argument in `BertForSequenceClassification.forward` and have been ignored: rev_count, page_title, wikidb. If rev_count, page_title, wikidb are not expected by `BertForSequenceClassification.forward`,  you can safely ignore this message.\n",
      "***** Running Evaluation *****\n",
      "  Num examples = 3425\n",
      "  Batch size = 8\n"
     ]
    },
    {
     "data": {
      "text/html": [],
      "text/plain": [
       "<IPython.core.display.HTML object>"
      ]
     },
     "metadata": {},
     "output_type": "display_data"
    },
    {
     "data": {
      "text/plain": [
       "{'eval_loss': 0.1402098685503006,\n",
       " 'eval_rmse': 0.3744460940361023,\n",
       " 'eval_runtime': 5.6925,\n",
       " 'eval_samples_per_second': 601.67,\n",
       " 'eval_steps_per_second': 75.362,\n",
       " 'epoch': 5.0}"
      ]
     },
     "execution_count": 19,
     "metadata": {},
     "output_type": "execute_result"
    }
   ],
   "source": [
    "trainer.evaluate()"
   ]
  },
  {
   "cell_type": "code",
   "execution_count": 20,
   "id": "2e563066-4f65-49d9-803e-58c248956ef9",
   "metadata": {},
   "outputs": [
    {
     "name": "stderr",
     "output_type": "stream",
     "text": [
      "The following columns in the test set don't have a corresponding argument in `BertForSequenceClassification.forward` and have been ignored: rev_count, page_title, wikidb. If rev_count, page_title, wikidb are not expected by `BertForSequenceClassification.forward`,  you can safely ignore this message.\n",
      "***** Running Prediction *****\n",
      "  Num examples = 3425\n",
      "  Batch size = 8\n"
     ]
    },
    {
     "data": {
      "text/html": [
       "<div>\n",
       "<style scoped>\n",
       "    .dataframe tbody tr th:only-of-type {\n",
       "        vertical-align: middle;\n",
       "    }\n",
       "\n",
       "    .dataframe tbody tr th {\n",
       "        vertical-align: top;\n",
       "    }\n",
       "\n",
       "    .dataframe thead th {\n",
       "        text-align: right;\n",
       "    }\n",
       "</style>\n",
       "<table border=\"1\" class=\"dataframe\">\n",
       "  <thead>\n",
       "    <tr style=\"text-align: right;\">\n",
       "      <th></th>\n",
       "      <th>count</th>\n",
       "      <th>mean</th>\n",
       "      <th>std</th>\n",
       "      <th>min</th>\n",
       "      <th>25%</th>\n",
       "      <th>50%</th>\n",
       "      <th>75%</th>\n",
       "      <th>max</th>\n",
       "    </tr>\n",
       "    <tr>\n",
       "      <th>revision_is_identity_reverted</th>\n",
       "      <th></th>\n",
       "      <th></th>\n",
       "      <th></th>\n",
       "      <th></th>\n",
       "      <th></th>\n",
       "      <th></th>\n",
       "      <th></th>\n",
       "      <th></th>\n",
       "    </tr>\n",
       "  </thead>\n",
       "  <tbody>\n",
       "    <tr>\n",
       "      <th>0.000000</th>\n",
       "      <td>536.0</td>\n",
       "      <td>0.414486</td>\n",
       "      <td>0.303630</td>\n",
       "      <td>-0.009320</td>\n",
       "      <td>0.138834</td>\n",
       "      <td>0.367972</td>\n",
       "      <td>0.670771</td>\n",
       "      <td>1.008016</td>\n",
       "    </tr>\n",
       "    <tr>\n",
       "      <th>0.018182</th>\n",
       "      <td>1.0</td>\n",
       "      <td>0.493463</td>\n",
       "      <td>NaN</td>\n",
       "      <td>0.493463</td>\n",
       "      <td>0.493463</td>\n",
       "      <td>0.493463</td>\n",
       "      <td>0.493463</td>\n",
       "      <td>0.493463</td>\n",
       "    </tr>\n",
       "    <tr>\n",
       "      <th>0.019417</th>\n",
       "      <td>1.0</td>\n",
       "      <td>0.390284</td>\n",
       "      <td>NaN</td>\n",
       "      <td>0.390284</td>\n",
       "      <td>0.390284</td>\n",
       "      <td>0.390284</td>\n",
       "      <td>0.390284</td>\n",
       "      <td>0.390284</td>\n",
       "    </tr>\n",
       "    <tr>\n",
       "      <th>0.019608</th>\n",
       "      <td>1.0</td>\n",
       "      <td>0.307571</td>\n",
       "      <td>NaN</td>\n",
       "      <td>0.307571</td>\n",
       "      <td>0.307571</td>\n",
       "      <td>0.307571</td>\n",
       "      <td>0.307571</td>\n",
       "      <td>0.307571</td>\n",
       "    </tr>\n",
       "    <tr>\n",
       "      <th>0.033333</th>\n",
       "      <td>1.0</td>\n",
       "      <td>0.701531</td>\n",
       "      <td>NaN</td>\n",
       "      <td>0.701531</td>\n",
       "      <td>0.701531</td>\n",
       "      <td>0.701531</td>\n",
       "      <td>0.701531</td>\n",
       "      <td>0.701531</td>\n",
       "    </tr>\n",
       "    <tr>\n",
       "      <th>...</th>\n",
       "      <td>...</td>\n",
       "      <td>...</td>\n",
       "      <td>...</td>\n",
       "      <td>...</td>\n",
       "      <td>...</td>\n",
       "      <td>...</td>\n",
       "      <td>...</td>\n",
       "      <td>...</td>\n",
       "    </tr>\n",
       "    <tr>\n",
       "      <th>0.965517</th>\n",
       "      <td>1.0</td>\n",
       "      <td>0.986824</td>\n",
       "      <td>NaN</td>\n",
       "      <td>0.986824</td>\n",
       "      <td>0.986824</td>\n",
       "      <td>0.986824</td>\n",
       "      <td>0.986824</td>\n",
       "      <td>0.986824</td>\n",
       "    </tr>\n",
       "    <tr>\n",
       "      <th>0.968750</th>\n",
       "      <td>1.0</td>\n",
       "      <td>0.606951</td>\n",
       "      <td>NaN</td>\n",
       "      <td>0.606951</td>\n",
       "      <td>0.606951</td>\n",
       "      <td>0.606951</td>\n",
       "      <td>0.606951</td>\n",
       "      <td>0.606951</td>\n",
       "    </tr>\n",
       "    <tr>\n",
       "      <th>0.970588</th>\n",
       "      <td>1.0</td>\n",
       "      <td>0.595421</td>\n",
       "      <td>NaN</td>\n",
       "      <td>0.595421</td>\n",
       "      <td>0.595421</td>\n",
       "      <td>0.595421</td>\n",
       "      <td>0.595421</td>\n",
       "      <td>0.595421</td>\n",
       "    </tr>\n",
       "    <tr>\n",
       "      <th>0.974359</th>\n",
       "      <td>1.0</td>\n",
       "      <td>0.758059</td>\n",
       "      <td>NaN</td>\n",
       "      <td>0.758059</td>\n",
       "      <td>0.758059</td>\n",
       "      <td>0.758059</td>\n",
       "      <td>0.758059</td>\n",
       "      <td>0.758059</td>\n",
       "    </tr>\n",
       "    <tr>\n",
       "      <th>1.000000</th>\n",
       "      <td>603.0</td>\n",
       "      <td>0.721127</td>\n",
       "      <td>0.259727</td>\n",
       "      <td>-0.003810</td>\n",
       "      <td>0.576785</td>\n",
       "      <td>0.807138</td>\n",
       "      <td>0.930650</td>\n",
       "      <td>1.030033</td>\n",
       "    </tr>\n",
       "  </tbody>\n",
       "</table>\n",
       "<p>242 rows × 8 columns</p>\n",
       "</div>"
      ],
      "text/plain": [
       "                               count      mean       std       min       25%  \\\n",
       "revision_is_identity_reverted                                                  \n",
       "0.000000                       536.0  0.414486  0.303630 -0.009320  0.138834   \n",
       "0.018182                         1.0  0.493463       NaN  0.493463  0.493463   \n",
       "0.019417                         1.0  0.390284       NaN  0.390284  0.390284   \n",
       "0.019608                         1.0  0.307571       NaN  0.307571  0.307571   \n",
       "0.033333                         1.0  0.701531       NaN  0.701531  0.701531   \n",
       "...                              ...       ...       ...       ...       ...   \n",
       "0.965517                         1.0  0.986824       NaN  0.986824  0.986824   \n",
       "0.968750                         1.0  0.606951       NaN  0.606951  0.606951   \n",
       "0.970588                         1.0  0.595421       NaN  0.595421  0.595421   \n",
       "0.974359                         1.0  0.758059       NaN  0.758059  0.758059   \n",
       "1.000000                       603.0  0.721127  0.259727 -0.003810  0.576785   \n",
       "\n",
       "                                    50%       75%       max  \n",
       "revision_is_identity_reverted                                \n",
       "0.000000                       0.367972  0.670771  1.008016  \n",
       "0.018182                       0.493463  0.493463  0.493463  \n",
       "0.019417                       0.390284  0.390284  0.390284  \n",
       "0.019608                       0.307571  0.307571  0.307571  \n",
       "0.033333                       0.701531  0.701531  0.701531  \n",
       "...                                 ...       ...       ...  \n",
       "0.965517                       0.986824  0.986824  0.986824  \n",
       "0.968750                       0.606951  0.606951  0.606951  \n",
       "0.970588                       0.595421  0.595421  0.595421  \n",
       "0.974359                       0.758059  0.758059  0.758059  \n",
       "1.000000                       0.807138  0.930650  1.030033  \n",
       "\n",
       "[242 rows x 8 columns]"
      ]
     },
     "metadata": {},
     "output_type": "display_data"
    },
    {
     "data": {
      "text/plain": [
       "<AxesSubplot:title={'center':'prediction_score'}, xlabel='revision_is_identity_reverted'>"
      ]
     },
     "execution_count": 20,
     "metadata": {},
     "output_type": "execute_result"
    },
    {
     "data": {
      "image/png": "[encoded data removed]",
      "text/plain": [
       "<Figure size 432x288 with 1 Axes>"
      ]
     },
     "metadata": {
      "needs_background": "light"
     },
     "output_type": "display_data"
    }
   ],
   "source": [
    "predictions = trainer.predict(encoded_dataset[\"test\"])\n",
    "test = pd.DataFrame({\n",
    "                       \"prediction_score\": predictions.predictions[:, 0],\n",
    "                       \"revision_is_identity_reverted\": predictions.label_ids\n",
    "                      })\n",
    "display(test.groupby(\"revision_is_identity_reverted\")[\"prediction_score\"].describe())\n",
    "test.boxplot(column=\"prediction_score\", by=\"revision_is_identity_reverted\")"
   ]
  },
  {
   "cell_type": "code",
   "execution_count": 21,
   "id": "4052496f-b0a7-4ccb-8aa3-7b4ee67ad474",
   "metadata": {},
   "outputs": [
    {
     "name": "stderr",
     "output_type": "stream",
     "text": [
      "/home/trokhymovych/.conda/envs/2022-08-18T15.21.49_trokhymovych/lib/python3.7/site-packages/seaborn/_decorators.py:43: FutureWarning: Pass the following variables as keyword args: x, y. From version 0.12, the only valid positional argument will be `data`, and passing other arguments without an explicit keyword will result in an error or misinterpretation.\n",
      "  FutureWarning\n"
     ]
    },
    {
     "data": {
      "image/png": "[encoded data removed]",
      "text/plain": [
       "<Figure size 432x288 with 1 Axes>"
      ]
     },
     "metadata": {
      "needs_background": "light"
     },
     "output_type": "display_data"
    }
   ],
   "source": [
    "import seaborn as sns\n",
    "import matplotlib.pyplot as plt\n",
    "\n",
    "fig, axes = plt.subplots()\n",
    "# plot violin. 'Scenario' is according to x axis, \n",
    "# 'LMP' is y axis, data is your dataframe. ax - is axes instance\n",
    "sns.violinplot('revision_is_identity_reverted', \"prediction_score\", data=test, ax = axes)\n",
    "axes.set_title('Distribution of is_reverted scores')\n",
    "\n",
    "axes.yaxis.grid(True)\n",
    "axes.set_xlabel('True is reverted')\n",
    "axes.set_ylabel('Model scores')\n",
    "\n",
    "plt.show()"
   ]
  },
  {
   "cell_type": "code",
   "execution_count": 22,
   "id": "1c075f2d-d875-48a3-8f1a-ab8362688285",
   "metadata": {},
   "outputs": [
    {
     "data": {
      "text/plain": [
       "<AxesSubplot:xlabel='prediction_score', ylabel='revision_is_identity_reverted'>"
      ]
     },
     "execution_count": 22,
     "metadata": {},
     "output_type": "execute_result"
    },
    {
     "data": {
      "image/png": "[encoded data removed]",
      "text/plain": [
       "<Figure size 432x288 with 1 Axes>"
      ]
     },
     "metadata": {
      "needs_background": "light"
     },
     "output_type": "display_data"
    }
   ],
   "source": [
    "import seaborn as sns\n",
    "# sns.distplot(test.prediction_score, test.revision_is_identity_reverted)\n",
    "\n",
    "sns.kdeplot(\n",
    "    data=test, x=\"prediction_score\", y=\"revision_is_identity_reverted\", fill=True,\n",
    ")"
   ]
  },
  {
   "cell_type": "code",
   "execution_count": 23,
   "id": "937defb3-cb49-4b01-a91a-e4306feea3a0",
   "metadata": {},
   "outputs": [
    {
     "data": {
      "text/plain": [
       "<AxesSubplot:xlabel='prediction_score', ylabel='revision_is_identity_reverted'>"
      ]
     },
     "execution_count": 23,
     "metadata": {},
     "output_type": "execute_result"
    },
    {
     "data": {
      "image/png": "[encoded data removed]",
      "text/plain": [
       "<Figure size 432x288 with 1 Axes>"
      ]
     },
     "metadata": {
      "needs_background": "light"
     },
     "output_type": "display_data"
    }
   ],
   "source": [
    "sns.regplot(x=\"prediction_score\", y=\"revision_is_identity_reverted\", data=test, marker=\"+\", )"
   ]
  },
  {
   "cell_type": "code",
   "execution_count": null,
   "id": "1ec62461-fb97-4427-b498-c955f82f4803",
   "metadata": {},
   "outputs": [],
   "source": []
  },
  {
   "cell_type": "code",
   "execution_count": null,
   "id": "81268790-4642-4fb3-ae0b-34265982ed23",
   "metadata": {},
   "outputs": [],
   "source": []
  }
 ],
 "metadata": {
  "kernelspec": {
   "display_name": "Python 3 (ipykernel)",
   "language": "python",
   "name": "python3"
  },
  "language_info": {
   "codemirror_mode": {
    "name": "ipython",
    "version": 3
   },
   "file_extension": ".py",
   "mimetype": "text/x-python",
   "name": "python",
   "nbconvert_exporter": "python",
   "pygments_lexer": "ipython3",
   "version": "3.7.6"
  }
 },
 "nbformat": 4,
 "nbformat_minor": 5
}
