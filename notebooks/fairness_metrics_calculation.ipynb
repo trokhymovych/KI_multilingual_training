{
 "cells": [
  {
   "cell_type": "code",
   "execution_count": 1,
   "metadata": {},
   "outputs": [],
   "source": [
    "### Install AIF360\n",
    "# !pip install 'aif360'"
   ]
  },
  {
   "cell_type": "code",
   "execution_count": 18,
   "metadata": {},
   "outputs": [],
   "source": [
    "import pandas as pd \n",
    "import numpy as np\n",
    "from tqdm.auto import tqdm\n",
    "from aif360.sklearn.metrics import disparate_impact_ratio, difference\n",
    "\n",
    "from sklearn.metrics import roc_auc_score\n",
    "from sklearn.metrics import f1_score\n",
    "from sklearn.metrics import accuracy_score"
   ]
  },
  {
   "cell_type": "code",
   "execution_count": 19,
   "metadata": {},
   "outputs": [],
   "source": [
    "# ToDo: Change the logic for the following data collection\n",
    "test_df = pd.read_csv(\"../data/fairness_test.csv\")"
   ]
  },
  {
   "cell_type": "code",
   "execution_count": 20,
   "metadata": {},
   "outputs": [
    {
     "data": {
      "text/plain": [
       "954470"
      ]
     },
     "execution_count": 20,
     "metadata": {},
     "output_type": "execute_result"
    }
   ],
   "source": [
    "# smaller, as ORES empty scores are filtered\n",
    "len(test_df)"
   ]
  },
  {
   "cell_type": "code",
   "execution_count": 21,
   "metadata": {
    "scrolled": true
   },
   "outputs": [
    {
     "data": {
      "text/html": [
       "<div>\n",
       "<style scoped>\n",
       "    .dataframe tbody tr th:only-of-type {\n",
       "        vertical-align: middle;\n",
       "    }\n",
       "\n",
       "    .dataframe tbody tr th {\n",
       "        vertical-align: top;\n",
       "    }\n",
       "\n",
       "    .dataframe thead th {\n",
       "        text-align: right;\n",
       "    }\n",
       "</style>\n",
       "<table border=\"1\" class=\"dataframe\">\n",
       "  <thead>\n",
       "    <tr style=\"text-align: right;\">\n",
       "      <th></th>\n",
       "      <th>wiki_db</th>\n",
       "      <th>revision_id</th>\n",
       "      <th>revision_is_identity_reverted</th>\n",
       "      <th>is_anonymous</th>\n",
       "      <th>ores_pred</th>\n",
       "      <th>classifier_ml_anon_non_balanced_new_pred</th>\n",
       "      <th>classifier_ml_anon_non_balanced_mlm_new_pred</th>\n",
       "      <th>classifier_ml_all_non_balanced_new_pred</th>\n",
       "      <th>classifier_ml_all_non_balanced_user_features_new_pred</th>\n",
       "      <th>classifier_ml_all_non_balanced_mlm_new_pred</th>\n",
       "      <th>classifier_ml_all_non_balanced_user_features_mlm_new_pred</th>\n",
       "    </tr>\n",
       "  </thead>\n",
       "  <tbody>\n",
       "    <tr>\n",
       "      <th>0</th>\n",
       "      <td>lvwiki</td>\n",
       "      <td>3642897</td>\n",
       "      <td>0</td>\n",
       "      <td>False</td>\n",
       "      <td>0.064643</td>\n",
       "      <td>0.793565</td>\n",
       "      <td>0.595658</td>\n",
       "      <td>0.767729</td>\n",
       "      <td>0.606200</td>\n",
       "      <td>0.258013</td>\n",
       "      <td>0.183207</td>\n",
       "    </tr>\n",
       "    <tr>\n",
       "      <th>1</th>\n",
       "      <td>lvwiki</td>\n",
       "      <td>3644717</td>\n",
       "      <td>0</td>\n",
       "      <td>False</td>\n",
       "      <td>0.065648</td>\n",
       "      <td>0.589894</td>\n",
       "      <td>0.305145</td>\n",
       "      <td>0.119167</td>\n",
       "      <td>0.031749</td>\n",
       "      <td>0.069964</td>\n",
       "      <td>0.021806</td>\n",
       "    </tr>\n",
       "    <tr>\n",
       "      <th>2</th>\n",
       "      <td>lvwiki</td>\n",
       "      <td>3646513</td>\n",
       "      <td>0</td>\n",
       "      <td>False</td>\n",
       "      <td>0.028898</td>\n",
       "      <td>0.475092</td>\n",
       "      <td>0.234674</td>\n",
       "      <td>0.092051</td>\n",
       "      <td>0.012829</td>\n",
       "      <td>0.027952</td>\n",
       "      <td>0.006952</td>\n",
       "    </tr>\n",
       "  </tbody>\n",
       "</table>\n",
       "</div>"
      ],
      "text/plain": [
       "  wiki_db  revision_id  revision_is_identity_reverted  is_anonymous  \\\n",
       "0  lvwiki      3642897                              0         False   \n",
       "1  lvwiki      3644717                              0         False   \n",
       "2  lvwiki      3646513                              0         False   \n",
       "\n",
       "   ores_pred  classifier_ml_anon_non_balanced_new_pred  \\\n",
       "0   0.064643                                  0.793565   \n",
       "1   0.065648                                  0.589894   \n",
       "2   0.028898                                  0.475092   \n",
       "\n",
       "   classifier_ml_anon_non_balanced_mlm_new_pred  \\\n",
       "0                                      0.595658   \n",
       "1                                      0.305145   \n",
       "2                                      0.234674   \n",
       "\n",
       "   classifier_ml_all_non_balanced_new_pred  \\\n",
       "0                                 0.767729   \n",
       "1                                 0.119167   \n",
       "2                                 0.092051   \n",
       "\n",
       "   classifier_ml_all_non_balanced_user_features_new_pred  \\\n",
       "0                                           0.606200       \n",
       "1                                           0.031749       \n",
       "2                                           0.012829       \n",
       "\n",
       "   classifier_ml_all_non_balanced_mlm_new_pred  \\\n",
       "0                                     0.258013   \n",
       "1                                     0.069964   \n",
       "2                                     0.027952   \n",
       "\n",
       "   classifier_ml_all_non_balanced_user_features_mlm_new_pred  \n",
       "0                                           0.183207          \n",
       "1                                           0.021806          \n",
       "2                                           0.006952          "
      ]
     },
     "execution_count": 21,
     "metadata": {},
     "output_type": "execute_result"
    }
   ],
   "source": [
    "test_df.head(3)"
   ]
  },
  {
   "cell_type": "code",
   "execution_count": 22,
   "metadata": {},
   "outputs": [],
   "source": [
    "test_df.index = pd.MultiIndex.from_arrays([test_df.is_anonymous.values], names=[\"is_anon\"])"
   ]
  },
  {
   "cell_type": "markdown",
   "metadata": {},
   "source": [
    "## Examples: "
   ]
  },
  {
   "cell_type": "code",
   "execution_count": 23,
   "metadata": {},
   "outputs": [
    {
     "data": {
      "text/plain": [
       "0.8768038806877115"
      ]
     },
     "execution_count": 23,
     "metadata": {},
     "output_type": "execute_result"
    }
   ],
   "source": [
    "y_pred = test_df.ores_pred > 0.5\n",
    "y_test = test_df.revision_is_identity_reverted\n",
    "accuracy_score(y_test, y_pred)"
   ]
  },
  {
   "attachments": {
    "image.png": {
     "image/png": "[encoded data removed]"
    }
   },
   "cell_type": "markdown",
   "metadata": {},
   "source": [
    "![image.png](attachment:image.png)"
   ]
  },
  {
   "cell_type": "code",
   "execution_count": 8,
   "metadata": {},
   "outputs": [
    {
     "data": {
      "text/plain": [
       "0.04993814464573333"
      ]
     },
     "execution_count": 8,
     "metadata": {},
     "output_type": "execute_result"
    }
   ],
   "source": [
    "disparate_impact_ratio(y_test, y_pred, prot_attr='is_anon')"
   ]
  },
  {
   "cell_type": "markdown",
   "metadata": {},
   "source": [
    "# Calculating results for each algorithm: "
   ]
  },
  {
   "cell_type": "code",
   "execution_count": 24,
   "metadata": {},
   "outputs": [
    {
     "data": {
      "text/plain": [
       "{'disparate_impact_ratio_base': 7.934051007260494,\n",
       " 'disparate_impact_ratio': 20.024772788298595,\n",
       " 'AUC difference': 0.02107608534192651}"
      ]
     },
     "execution_count": 24,
     "metadata": {},
     "output_type": "execute_result"
    }
   ],
   "source": [
    "def calculate_metrics(y_pred, y_test, threshold=0.5, prot_attr=\"is_anon\", priv_group=0):\n",
    "    y_pred_b = y_pred > threshold\n",
    "    results_dict = {\n",
    "#         \"accuracy_score\": accuracy_score(y_test, y_pred_b),\n",
    "        \"disparate_impact_ratio_base\": disparate_impact_ratio(\n",
    "            y_test, prot_attr=prot_attr, priv_group=priv_group\n",
    "        ),\n",
    "        \"disparate_impact_ratio\": disparate_impact_ratio(\n",
    "            y_test, y_pred_b, prot_attr=prot_attr, priv_group=priv_group\n",
    "        ),\n",
    "#         \"statistical_parity_difference\": statistical_parity_difference(\n",
    "#             y_test, y_pred_b, prot_attr=prot_attr, priv_group=priv_group\n",
    "#         ),\n",
    "#         \"kl_divergence\": kl_divergence(y_test, y_pred_b, prot_attr=prot_attr, priv_group=priv_group),\n",
    "        \"AUC difference\": difference(roc_auc_score, y_test, y_pred, prot_attr=prot_attr, priv_group=priv_group),\n",
    "#         \"F1 difference\": difference(f1_score, y_test, y_pred_b, prot_attr=prot_attr, priv_group=priv_group),\n",
    "#         \"Accuracy difference\": difference(accuracy_score, y_test, y_pred_b, prot_attr=prot_attr, priv_group=priv_group)\n",
    "    }\n",
    "    return results_dict\n",
    "\n",
    "calculate_metrics(y_pred, y_test, threshold=0.5, prot_attr=\"is_anon\")"
   ]
  },
  {
   "cell_type": "code",
   "execution_count": 26,
   "metadata": {},
   "outputs": [],
   "source": [
    "results = []\n",
    "\n",
    "model_names = [\n",
    "    \"ores\",\n",
    "    \"classifier_ml_anon_non_balanced_new\",\n",
    "    \"classifier_ml_anon_non_balanced_mlm_new\",\n",
    "    \"classifier_ml_all_non_balanced_new\",\n",
    "    \"classifier_ml_all_non_balanced_mlm_new\",\n",
    "    \"classifier_ml_all_non_balanced_user_features_new\",\n",
    "    \"classifier_ml_all_non_balanced_user_features_mlm_new\",\n",
    "]\n",
    "\n",
    "for name in model_names:\n",
    "    results.append(calculate_metrics(\n",
    "        test_df[f\"{name}_pred\"], test_df.revision_is_identity_reverted, threshold=0.5, prot_attr=\"is_anon\")\n",
    "                  )"
   ]
  },
  {
   "cell_type": "code",
   "execution_count": 27,
   "metadata": {},
   "outputs": [
    {
     "data": {
      "text/html": [
       "<div>\n",
       "<style scoped>\n",
       "    .dataframe tbody tr th:only-of-type {\n",
       "        vertical-align: middle;\n",
       "    }\n",
       "\n",
       "    .dataframe tbody tr th {\n",
       "        vertical-align: top;\n",
       "    }\n",
       "\n",
       "    .dataframe thead th {\n",
       "        text-align: right;\n",
       "    }\n",
       "</style>\n",
       "<table border=\"1\" class=\"dataframe\">\n",
       "  <thead>\n",
       "    <tr style=\"text-align: right;\">\n",
       "      <th></th>\n",
       "      <th>disparate_impact_ratio_base</th>\n",
       "      <th>disparate_impact_ratio</th>\n",
       "      <th>AUC difference</th>\n",
       "    </tr>\n",
       "  </thead>\n",
       "  <tbody>\n",
       "    <tr>\n",
       "      <th>ores</th>\n",
       "      <td>7.934051</td>\n",
       "      <td>20.024773</td>\n",
       "      <td>-0.043372</td>\n",
       "    </tr>\n",
       "    <tr>\n",
       "      <th>classifier_ml_anon_non_balanced_new</th>\n",
       "      <td>7.934051</td>\n",
       "      <td>1.977697</td>\n",
       "      <td>0.072528</td>\n",
       "    </tr>\n",
       "    <tr>\n",
       "      <th>classifier_ml_anon_non_balanced_mlm_new</th>\n",
       "      <td>7.934051</td>\n",
       "      <td>2.055881</td>\n",
       "      <td>0.083683</td>\n",
       "    </tr>\n",
       "    <tr>\n",
       "      <th>classifier_ml_all_non_balanced_new</th>\n",
       "      <td>7.934051</td>\n",
       "      <td>2.907305</td>\n",
       "      <td>0.010664</td>\n",
       "    </tr>\n",
       "    <tr>\n",
       "      <th>classifier_ml_all_non_balanced_mlm_new</th>\n",
       "      <td>7.934051</td>\n",
       "      <td>3.083725</td>\n",
       "      <td>0.017365</td>\n",
       "    </tr>\n",
       "    <tr>\n",
       "      <th>classifier_ml_all_non_balanced_user_features_new</th>\n",
       "      <td>7.934051</td>\n",
       "      <td>9.360455</td>\n",
       "      <td>-0.035409</td>\n",
       "    </tr>\n",
       "    <tr>\n",
       "      <th>classifier_ml_all_non_balanced_user_features_mlm_new</th>\n",
       "      <td>7.934051</td>\n",
       "      <td>9.541478</td>\n",
       "      <td>-0.017267</td>\n",
       "    </tr>\n",
       "  </tbody>\n",
       "</table>\n",
       "</div>"
      ],
      "text/plain": [
       "                                                    disparate_impact_ratio_base  \\\n",
       "ores                                                                   7.934051   \n",
       "classifier_ml_anon_non_balanced_new                                    7.934051   \n",
       "classifier_ml_anon_non_balanced_mlm_new                                7.934051   \n",
       "classifier_ml_all_non_balanced_new                                     7.934051   \n",
       "classifier_ml_all_non_balanced_mlm_new                                 7.934051   \n",
       "classifier_ml_all_non_balanced_user_features_new                       7.934051   \n",
       "classifier_ml_all_non_balanced_user_features_ml...                     7.934051   \n",
       "\n",
       "                                                    disparate_impact_ratio  \\\n",
       "ores                                                             20.024773   \n",
       "classifier_ml_anon_non_balanced_new                               1.977697   \n",
       "classifier_ml_anon_non_balanced_mlm_new                           2.055881   \n",
       "classifier_ml_all_non_balanced_new                                2.907305   \n",
       "classifier_ml_all_non_balanced_mlm_new                            3.083725   \n",
       "classifier_ml_all_non_balanced_user_features_new                  9.360455   \n",
       "classifier_ml_all_non_balanced_user_features_ml...                9.541478   \n",
       "\n",
       "                                                    AUC difference  \n",
       "ores                                                     -0.043372  \n",
       "classifier_ml_anon_non_balanced_new                       0.072528  \n",
       "classifier_ml_anon_non_balanced_mlm_new                   0.083683  \n",
       "classifier_ml_all_non_balanced_new                        0.010664  \n",
       "classifier_ml_all_non_balanced_mlm_new                    0.017365  \n",
       "classifier_ml_all_non_balanced_user_features_new         -0.035409  \n",
       "classifier_ml_all_non_balanced_user_features_ml...       -0.017267  "
      ]
     },
     "execution_count": 27,
     "metadata": {},
     "output_type": "execute_result"
    }
   ],
   "source": [
    "res = pd.DataFrame(results)\n",
    "res.index = model_names\n",
    "res"
   ]
  }
 ],
 "metadata": {
  "kernelspec": {
   "display_name": "Python 3",
   "language": "python",
   "name": "python3"
  },
  "language_info": {
   "codemirror_mode": {
    "name": "ipython",
    "version": 3
   },
   "file_extension": ".py",
   "mimetype": "text/x-python",
   "name": "python",
   "nbconvert_exporter": "python",
   "pygments_lexer": "ipython3",
   "version": "3.7.3"
  }
 },
 "nbformat": 4,
 "nbformat_minor": 4
}
